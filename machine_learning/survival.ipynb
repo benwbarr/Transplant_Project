{
 "cells": [
  {
   "cell_type": "code",
   "execution_count": 1,
   "metadata": {},
   "outputs": [],
   "source": [
    "import pandas as pd \n",
    "import numpy as np\n",
    "import datetime as dt\n",
    "import matplotlib.pyplot as plt\n",
    "from sklearn import utils"
   ]
  },
  {
   "cell_type": "code",
   "execution_count": 32,
   "metadata": {},
   "outputs": [
    {
     "data": {
      "text/html": [
       "<div>\n",
       "<style scoped>\n",
       "    .dataframe tbody tr th:only-of-type {\n",
       "        vertical-align: middle;\n",
       "    }\n",
       "\n",
       "    .dataframe tbody tr th {\n",
       "        vertical-align: top;\n",
       "    }\n",
       "\n",
       "    .dataframe thead th {\n",
       "        text-align: right;\n",
       "    }\n",
       "</style>\n",
       "<table border=\"1\" class=\"dataframe\">\n",
       "  <thead>\n",
       "    <tr style=\"text-align: right;\">\n",
       "      <th></th>\n",
       "      <th>_id</th>\n",
       "      <th>Region</th>\n",
       "      <th>Organ</th>\n",
       "      <th>Recipient_Diagnose_Category</th>\n",
       "      <th>Years_Post_Transplant</th>\n",
       "      <th>Number_Functioning_or_Alive</th>\n",
       "      <th>Survival_Rate</th>\n",
       "    </tr>\n",
       "  </thead>\n",
       "  <tbody>\n",
       "    <tr>\n",
       "      <th>0</th>\n",
       "      <td>6032c59837ca244bc48d667e</td>\n",
       "      <td>U.S.</td>\n",
       "      <td>Heart</td>\n",
       "      <td>Cardiomyopathy</td>\n",
       "      <td>1 Year</td>\n",
       "      <td>5035</td>\n",
       "      <td>92.0</td>\n",
       "    </tr>\n",
       "    <tr>\n",
       "      <th>1</th>\n",
       "      <td>6032c59837ca244bc48d667f</td>\n",
       "      <td>U.S.</td>\n",
       "      <td>Heart</td>\n",
       "      <td>Coronary Artery Disease</td>\n",
       "      <td>1 Year</td>\n",
       "      <td>2803</td>\n",
       "      <td>89.9</td>\n",
       "    </tr>\n",
       "    <tr>\n",
       "      <th>2</th>\n",
       "      <td>6032c59837ca244bc48d6680</td>\n",
       "      <td>U.S.</td>\n",
       "      <td>Heart</td>\n",
       "      <td>Retransplant/Graft Failure</td>\n",
       "      <td>1 Year</td>\n",
       "      <td>310</td>\n",
       "      <td>86.2</td>\n",
       "    </tr>\n",
       "    <tr>\n",
       "      <th>3</th>\n",
       "      <td>6032c59837ca244bc48d6681</td>\n",
       "      <td>U.S.</td>\n",
       "      <td>Heart</td>\n",
       "      <td>Valvular Heart Disease</td>\n",
       "      <td>1 Year</td>\n",
       "      <td>110</td>\n",
       "      <td>91.0</td>\n",
       "    </tr>\n",
       "    <tr>\n",
       "      <th>4</th>\n",
       "      <td>6032c59837ca244bc48d6682</td>\n",
       "      <td>U.S.</td>\n",
       "      <td>Heart</td>\n",
       "      <td>Other</td>\n",
       "      <td>1 Year</td>\n",
       "      <td>187</td>\n",
       "      <td>94.5</td>\n",
       "    </tr>\n",
       "  </tbody>\n",
       "</table>\n",
       "</div>"
      ],
      "text/plain": [
       "                        _id Region  Organ Recipient_Diagnose_Category  \\\n",
       "0  6032c59837ca244bc48d667e   U.S.  Heart              Cardiomyopathy   \n",
       "1  6032c59837ca244bc48d667f   U.S.  Heart     Coronary Artery Disease   \n",
       "2  6032c59837ca244bc48d6680   U.S.  Heart  Retransplant/Graft Failure   \n",
       "3  6032c59837ca244bc48d6681   U.S.  Heart      Valvular Heart Disease   \n",
       "4  6032c59837ca244bc48d6682   U.S.  Heart                       Other   \n",
       "\n",
       "  Years_Post_Transplant  Number_Functioning_or_Alive  Survival_Rate  \n",
       "0                1 Year                         5035           92.0  \n",
       "1                1 Year                         2803           89.9  \n",
       "2                1 Year                          310           86.2  \n",
       "3                1 Year                          110           91.0  \n",
       "4                1 Year                          187           94.5  "
      ]
     },
     "execution_count": 32,
     "metadata": {},
     "output_type": "execute_result"
    }
   ],
   "source": [
    "# survival_by_type= pd.read_csv('Resources/survival_donor_type_df.csv')\n",
    "# survival_by_age= pd.read_csv('Resources/survival_age_df.csv')\n",
    "survival_by_diagnoses= pd.read_csv('Resources/survival_diagnose_df.csv')\n",
    "# survival_by_type[\"Years_Post_Transplant\"] = parse_date(datetime.datetime.strptime(start, '%Y'))\n",
    "# survival_by_type.head()\n",
    "survival_by_diagnoses.head()\n",
    "# print(len(survival_by_diagnoses))\n",
    "# print(len(survival_by_age))"
   ]
  },
  {
   "cell_type": "code",
   "execution_count": 30,
   "metadata": {},
   "outputs": [],
   "source": [
    "# joined_df= pd.concat([survival_by_diagnoses, survival_by_age], axis=0, ignore_index=True)\n",
    "# joined_df"
   ]
  },
  {
   "cell_type": "code",
   "execution_count": 33,
   "metadata": {},
   "outputs": [
    {
     "data": {
      "text/html": [
       "<div>\n",
       "<style scoped>\n",
       "    .dataframe tbody tr th:only-of-type {\n",
       "        vertical-align: middle;\n",
       "    }\n",
       "\n",
       "    .dataframe tbody tr th {\n",
       "        vertical-align: top;\n",
       "    }\n",
       "\n",
       "    .dataframe thead th {\n",
       "        text-align: right;\n",
       "    }\n",
       "</style>\n",
       "<table border=\"1\" class=\"dataframe\">\n",
       "  <thead>\n",
       "    <tr style=\"text-align: right;\">\n",
       "      <th></th>\n",
       "      <th>Organ</th>\n",
       "      <th>Recipient_Diagnose_Category</th>\n",
       "      <th>Years_Post_Transplant</th>\n",
       "      <th>Number_Functioning_or_Alive</th>\n",
       "    </tr>\n",
       "  </thead>\n",
       "  <tbody>\n",
       "    <tr>\n",
       "      <th>0</th>\n",
       "      <td>Heart</td>\n",
       "      <td>Cardiomyopathy</td>\n",
       "      <td>1 Year</td>\n",
       "      <td>5035</td>\n",
       "    </tr>\n",
       "    <tr>\n",
       "      <th>1</th>\n",
       "      <td>Heart</td>\n",
       "      <td>Coronary Artery Disease</td>\n",
       "      <td>1 Year</td>\n",
       "      <td>2803</td>\n",
       "    </tr>\n",
       "    <tr>\n",
       "      <th>2</th>\n",
       "      <td>Heart</td>\n",
       "      <td>Retransplant/Graft Failure</td>\n",
       "      <td>1 Year</td>\n",
       "      <td>310</td>\n",
       "    </tr>\n",
       "    <tr>\n",
       "      <th>3</th>\n",
       "      <td>Heart</td>\n",
       "      <td>Valvular Heart Disease</td>\n",
       "      <td>1 Year</td>\n",
       "      <td>110</td>\n",
       "    </tr>\n",
       "    <tr>\n",
       "      <th>4</th>\n",
       "      <td>Heart</td>\n",
       "      <td>Other</td>\n",
       "      <td>1 Year</td>\n",
       "      <td>187</td>\n",
       "    </tr>\n",
       "  </tbody>\n",
       "</table>\n",
       "</div>"
      ],
      "text/plain": [
       "   Organ Recipient_Diagnose_Category Years_Post_Transplant  \\\n",
       "0  Heart              Cardiomyopathy                1 Year   \n",
       "1  Heart     Coronary Artery Disease                1 Year   \n",
       "2  Heart  Retransplant/Graft Failure                1 Year   \n",
       "3  Heart      Valvular Heart Disease                1 Year   \n",
       "4  Heart                       Other                1 Year   \n",
       "\n",
       "  Number_Functioning_or_Alive  \n",
       "0                        5035  \n",
       "1                        2803  \n",
       "2                         310  \n",
       "3                         110  \n",
       "4                         187  "
      ]
     },
     "execution_count": 33,
     "metadata": {},
     "output_type": "execute_result"
    }
   ],
   "source": [
    "X= joined_df.drop(columns=['_id', 'Region', 'Survival_Rate', 'Recipient_Age'])\n",
    "y= joined_df[['Survival_Rate']]\n",
    "# y\n",
    "X.head()"
   ]
  },
  {
   "cell_type": "code",
   "execution_count": 34,
   "metadata": {},
   "outputs": [
    {
     "name": "stdout",
     "output_type": "stream",
     "text": [
      "(190, 4) (190, 1)\n"
     ]
    },
    {
     "data": {
      "text/plain": [
       "Organ                          object\n",
       "Recipient_Diagnose_Category    object\n",
       "Years_Post_Transplant          object\n",
       "Number_Functioning_or_Alive    object\n",
       "dtype: object"
      ]
     },
     "execution_count": 34,
     "metadata": {},
     "output_type": "execute_result"
    }
   ],
   "source": [
    "print(X.shape, y.shape)\n",
    "X.dtypes"
   ]
  },
  {
   "cell_type": "code",
   "execution_count": 35,
   "metadata": {},
   "outputs": [],
   "source": [
    "import seaborn as sns\n",
    "\n",
    "# *** sns.lineplot(x='Organ', data=survival_by_type, y='Survival_Rate')\n",
    "# *** sns.lineplot(x='Donor_Type', data=survival_by_type, y='Survival_Rate')\n",
    "# sns.lineplot(x='Years_Post_Transplant', data=survival_by_type, y='Survival_Rate')\n",
    "# sns.lineplot(x='', data=survival_by_type, y='Survival_Rate')\n",
    "\n",
    "# sns.lineplot(x='Year', y='value', hue='variable', \n",
    "#              data=pd.melt(data_preproc, ['Year']))\n"
   ]
  },
  {
   "cell_type": "code",
   "execution_count": 37,
   "metadata": {},
   "outputs": [],
   "source": [
    "from sklearn.preprocessing import LabelEncoder\n",
    "\n",
    "\n",
    "\n",
    "\n",
    "label_encoder = LabelEncoder()\n",
    "\n",
    "\n",
    "X_encoded = X.apply(label_encoder.fit_transform)\n",
    "# # Encode labels in columns\n",
    "X_encoded= X.apply(LabelEncoder().fit_transform)\n",
    "X_encoded_array= np.array(X_encoded)\n",
    "\n",
    "# X_encoded_array"
   ]
  },
  {
   "cell_type": "code",
   "execution_count": 38,
   "metadata": {},
   "outputs": [],
   "source": [
    "from sklearn.model_selection import train_test_split\n",
    "X_train, X_test, y_train, y_test = train_test_split(X_encoded_array, y, test_size = 0.33, random_state = 42)"
   ]
  },
  {
   "cell_type": "code",
   "execution_count": 244,
   "metadata": {},
   "outputs": [],
   "source": [
    "# print(X_train)\n",
    "# print(utils.multiclass.type_of_target(X_train))\n",
    "# print(X_train.shape)"
   ]
  },
  {
   "cell_type": "code",
   "execution_count": 184,
   "metadata": {},
   "outputs": [
    {
     "name": "stdout",
     "output_type": "stream",
     "text": [
      "multiclass-multioutput\n"
     ]
    }
   ],
   "source": [
    "X2label_encoder = LabelEncoder()\n",
    "# # Encode X columns\n",
    "X2_encoded= LabelEncoder().fit_transform\n",
    "X2_encoded_array= np.array(X_encoded)\n",
    "\n",
    "print(utils.multiclass.type_of_target(X2_encoded_array))\n"
   ]
  },
  {
   "cell_type": "code",
   "execution_count": 185,
   "metadata": {},
   "outputs": [],
   "source": [
    "# X2= survival_by_type.drop(columns=['Survival_Rate', '_id', 'Region'])\n",
    "# X2_train, X2_test, y_train, y_test = train_test_split(X2_encoded_array, y, random_state=100)\n",
    "# # X2_train.head()"
   ]
  },
  {
   "cell_type": "code",
   "execution_count": 40,
   "metadata": {},
   "outputs": [
    {
     "name": "stdout",
     "output_type": "stream",
     "text": [
      "multiclass\n",
      "(127, 1)\n",
      "(127, 4)\n"
     ]
    },
    {
     "name": "stderr",
     "output_type": "stream",
     "text": [
      "/Users/yaden/opt/anaconda3/lib/python3.8/site-packages/sklearn/utils/validation.py:72: DataConversionWarning: A column-vector y was passed when a 1d array was expected. Please change the shape of y to (n_samples, ), for example using ravel().\n",
      "  return f(**kwargs)\n"
     ]
    }
   ],
   "source": [
    "from sklearn.preprocessing import LabelEncoder\n",
    "\n",
    "label_encoder = LabelEncoder()\n",
    "y_train_encoded = label_encoder.fit_transform(y_train).reshape(-1,1)\n",
    "\n",
    "# print(y_train_encoded)\n",
    "# print(utils.multiclass.type_of_target(y))\n",
    "print(utils.multiclass.type_of_target(y_train_encoded))\n",
    "print(y_train_encoded.shape)\n",
    "print(X_train.shape)"
   ]
  },
  {
   "cell_type": "code",
   "execution_count": 41,
   "metadata": {},
   "outputs": [
    {
     "name": "stdout",
     "output_type": "stream",
     "text": [
      "(127, 4) (127, 1)\n"
     ]
    }
   ],
   "source": [
    "from sklearn.preprocessing import MinMaxScaler\n",
    "\n",
    "# X_train_broadcasted= X_train*y_train_encoded\n",
    "# X_train_broadcasted\n",
    "X_scaler = MinMaxScaler().fit(X_train)\n",
    "X_train_scaled = X_scaler.transform(X_train)\n",
    "X_test_scaled = X_scaler.transform(X_test)\n",
    "\n",
    "y_scaler= MinMaxScaler().fit(y_train_encoded)\n",
    "y_train_scaled= y_scaler.transform(y_train_encoded).reshape(-1,1)\n",
    "y_test_scaled= y_scaler.transform(y_test)\n",
    "\n",
    "print(X_train_scaled.shape, y_train_scaled.shape)"
   ]
  },
  {
   "cell_type": "code",
   "execution_count": 188,
   "metadata": {},
   "outputs": [],
   "source": [
    "# X2_encoded_array\n",
    "X2_scaler = MinMaxScaler().fit(X2_encoded_array)\n",
    "X2_train_scaled = X2_scaler.transform(X2_encoded_array)\n",
    "X2_test_scaled = X2_scaler.transform(X2_test)"
   ]
  },
  {
   "cell_type": "code",
   "execution_count": 189,
   "metadata": {},
   "outputs": [
    {
     "data": {
      "text/plain": [
       "(12, 4)"
      ]
     },
     "execution_count": 189,
     "metadata": {},
     "output_type": "execute_result"
    }
   ],
   "source": [
    "X2.shape"
   ]
  },
  {
   "cell_type": "code",
   "execution_count": 190,
   "metadata": {},
   "outputs": [],
   "source": [
    "# from sklearn.preprocessing import StandardScaler\n",
    "\n",
    "# # Create a StandardScater model and fit it to the training data\n",
    "# X_scaler = StandardScaler().fit(X_train)"
   ]
  },
  {
   "cell_type": "code",
   "execution_count": 191,
   "metadata": {},
   "outputs": [],
   "source": [
    "# X_train_scaled = X_scaler.transform(X_train)\n",
    "# X_test_scaled = X_scaler.transform(X_test)"
   ]
  },
  {
   "cell_type": "code",
   "execution_count": 192,
   "metadata": {},
   "outputs": [],
   "source": [
    "# print(utils.multiclass.type_of_target(X_train_scaled))\n",
    "# print(utils.multiclass.type_of_target(y_train_scaled))"
   ]
  },
  {
   "cell_type": "code",
   "execution_count": 42,
   "metadata": {},
   "outputs": [
    {
     "data": {
      "text/plain": [
       "LinearRegression()"
      ]
     },
     "execution_count": 42,
     "metadata": {},
     "output_type": "execute_result"
    }
   ],
   "source": [
    "from sklearn.linear_model import LinearRegression\n",
    "model = LinearRegression()\n",
    "model.fit(X_train_scaled, y_train_scaled)"
   ]
  },
  {
   "cell_type": "code",
   "execution_count": 43,
   "metadata": {},
   "outputs": [
    {
     "name": "stdout",
     "output_type": "stream",
     "text": [
      "Training Score: 0.4588018618718658\n",
      "Testing Score: -19.430736086717086\n"
     ]
    }
   ],
   "source": [
    "training_score = model.score(X_train_scaled, y_train_scaled)\n",
    "testing_score = model.score(X_test_scaled, y_test_scaled)\n",
    "\n",
    "print(f\"Training Score: {training_score}\")\n",
    "print(f\"Testing Score: {testing_score}\")"
   ]
  },
  {
   "cell_type": "code",
   "execution_count": 44,
   "metadata": {},
   "outputs": [
    {
     "data": {
      "text/plain": [
       "Text(0.5, 1.0, 'Residual Plot')"
      ]
     },
     "execution_count": 44,
     "metadata": {},
     "output_type": "execute_result"
    },
    {
     "data": {
      "image/png": "[encoded data removed]",
      "text/plain": [
       "<Figure size 432x288 with 1 Axes>"
      ]
     },
     "metadata": {
      "needs_background": "light"
     },
     "output_type": "display_data"
    }
   ],
   "source": [
    "plt.scatter(model.predict(X_train_scaled), model.predict(X_train_scaled) - y_train_scaled, c=\"blue\", label=\"Training Data\")\n",
    "plt.scatter(model.predict(X_test_scaled), model.predict(X_test_scaled) - y_test_scaled, c=\"orange\", label=\"Testing Data\")\n",
    "plt.legend()\n",
    "# plt.hlines(y=0, xmin=y.min(), xmax=y.max())\n",
    "plt.title(\"Residual Plot\")"
   ]
  },
  {
   "cell_type": "code",
   "execution_count": 45,
   "metadata": {},
   "outputs": [
    {
     "name": "stdout",
     "output_type": "stream",
     "text": [
      "Mean Squared Error (MSE): 7434.210019130054\n",
      "R-squared (R2 ): -98.2783438311015\n"
     ]
    }
   ],
   "source": [
    "# Calculating the mean_squared_error and the r-squared value\n",
    "from sklearn.metrics import mean_squared_error, r2_score\n",
    "\n",
    "# Use model to make predictions\n",
    "predicted = model.predict(X_test_scaled)\n",
    "\n",
    "# # Score predictions with mse and r2\n",
    "mse = mean_squared_error(y_test, predicted)\n",
    "r2 = r2_score(y_test, predicted)\n",
    "\n",
    "print(f\"Mean Squared Error (MSE): {mse}\")\n",
    "print(f\"R-squared (R2 ): {r2}\")"
   ]
  },
  {
   "cell_type": "code",
   "execution_count": 46,
   "metadata": {},
   "outputs": [
    {
     "data": {
      "text/plain": [
       "-77.30795836203045"
      ]
     },
     "execution_count": 46,
     "metadata": {},
     "output_type": "execute_result"
    }
   ],
   "source": [
    "model.score(X_test, y_test)"
   ]
  },
  {
   "cell_type": "code",
   "execution_count": 47,
   "metadata": {},
   "outputs": [],
   "source": [
    "from sklearn.preprocessing import StandardScaler\n",
    "X_scaler = StandardScaler().fit(X_train)"
   ]
  },
  {
   "cell_type": "code",
   "execution_count": 48,
   "metadata": {},
   "outputs": [
    {
     "data": {
      "text/plain": [
       "(190, 4)"
      ]
     },
     "execution_count": 48,
     "metadata": {},
     "output_type": "execute_result"
    }
   ],
   "source": [
    "X_train_scaled = X_scaler.transform(X_train)\n",
    "X_test_scaled = X_scaler.transform(X_test)\n",
    "X.shape"
   ]
  },
  {
   "cell_type": "code",
   "execution_count": 49,
   "metadata": {},
   "outputs": [
    {
     "data": {
      "text/plain": [
       "(190, 1)"
      ]
     },
     "execution_count": 49,
     "metadata": {},
     "output_type": "execute_result"
    }
   ],
   "source": [
    "y.shape"
   ]
  },
  {
   "cell_type": "code",
   "execution_count": 52,
   "metadata": {},
   "outputs": [],
   "source": [
    "# X2_train_scaled = X2_scaler.transform(X2_train)\n",
    "# X2_test_scaled = X2_scaler.transform(X2_test)\n",
    "\n",
    "# X2.shape"
   ]
  },
  {
   "cell_type": "code",
   "execution_count": 115,
   "metadata": {},
   "outputs": [
    {
     "name": "stderr",
     "output_type": "stream",
     "text": [
      "/Users/yaden/opt/anaconda3/lib/python3.8/site-packages/sklearn/utils/validation.py:72: DataConversionWarning: A column-vector y was passed when a 1d array was expected. Please change the shape of y to (n_samples, ), for example using ravel().\n",
      "  return f(**kwargs)\n"
     ]
    },
    {
     "data": {
      "text/plain": [
       "SVC()"
      ]
     },
     "execution_count": 115,
     "metadata": {},
     "output_type": "execute_result"
    }
   ],
   "source": [
    "# Create the SVC Model\n",
    "from sklearn.svm import SVC \n",
    "model = SVC(kernel='rbf')\n",
    "model.fit(X_train,y_train_encoded)\n",
    "# model.fit(X,y)"
   ]
  },
  {
   "cell_type": "code",
   "execution_count": 51,
   "metadata": {},
   "outputs": [],
   "source": [
    "# print(f\"Training Data Score: {model.score(X_train_scaled, y)}\")\n",
    "# # print(f\"Testing Data Score: {model.score(X_test_scaled, y_test)}\")"
   ]
  },
  {
   "cell_type": "code",
   "execution_count": 236,
   "metadata": {},
   "outputs": [
    {
     "name": "stderr",
     "output_type": "stream",
     "text": [
      "<ipython-input-236-f3aa5bdd7c1c>:4: DataConversionWarning: A column-vector y was passed when a 1d array was expected. Please change the shape of y to (n_samples,), for example using ravel().\n",
      "  model_1.fit(X_train_scaled, y_train_scaled)\n"
     ]
    },
    {
     "name": "stdout",
     "output_type": "stream",
     "text": [
      "Training Data Score: -10080.485 %\n",
      "Testing Data Score: -6276.577 %\n"
     ]
    }
   ],
   "source": [
    "from sklearn.ensemble import RandomForestRegressor\n",
    "\n",
    "model_1 = RandomForestRegressor(n_estimators=200)\n",
    "model_1.fit(X_train_scaled, y_train_scaled)\n",
    "\n",
    "model_1_training_score = round(model_1.score(X_train_scaled, y_train)*100,3)\n",
    "\n",
    "base_accuracy = round(model_1.score(X_test_scaled, y_test)*100,3)\n",
    "\n",
    "print(f\"Training Data Score: {model_1_training_score} %\")\n",
    "print(f\"Testing Data Score: {base_accuracy} %\")"
   ]
  },
  {
   "cell_type": "code",
   "execution_count": 64,
   "metadata": {},
   "outputs": [],
   "source": [
    "# scaled_training_X= np.array(X_train_scaled)\n",
    "# scaled_training_y= np.array(y_train_scaled)\n",
    "# y_train_scaled\n",
    "# X_train_scaled"
   ]
  },
  {
   "cell_type": "code",
   "execution_count": 132,
   "metadata": {},
   "outputs": [],
   "source": [
    "# from sklearn.linear_model import LogisticRegression\n",
    "\n",
    "# model = LogisticRegression()\n",
    "# model.fit(X_train_scaled, y_train_scaled)\n",
    "\n",
    "# model_1 = LogisticRegression(solver='newton-cg', multi_class='auto')\n",
    "# model_1.fit(scaled_training_X, scaled_training_y)\n",
    "\n",
    "# model_1_training_score = round(model_1.score(X_train_scaled, y_train)*100,3)\n",
    "# base_accuracy = round(model_1.score(X_test_scaled, y_test)*100,3)\n",
    "\n",
    "# print(f\"Training Data Score: {model_1_training_score} %\")\n",
    "# print(f\"Testing Data Score: {base_accuracy} %\")\n"
   ]
  },
  {
   "cell_type": "code",
   "execution_count": null,
   "metadata": {},
   "outputs": [],
   "source": []
  }
 ],
 "metadata": {
  "kernelspec": {
   "display_name": "Python 3",
   "language": "python",
   "name": "python3"
  },
  "language_info": {
   "codemirror_mode": {
    "name": "ipython",
    "version": 3
   },
   "file_extension": ".py",
   "mimetype": "text/x-python",
   "name": "python",
   "nbconvert_exporter": "python",
   "pygments_lexer": "ipython3",
   "version": "3.8.5"
  }
 },
 "nbformat": 4,
 "nbformat_minor": 5
}
