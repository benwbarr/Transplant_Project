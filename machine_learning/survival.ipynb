{
 "cells": [
  {
   "cell_type": "code",
   "execution_count": 24,
   "metadata": {},
   "outputs": [],
   "source": [
    "import pandas as pd \n",
    "import numpy as np\n",
    "import datetime as dt\n",
    "import matplotlib.pyplot as plt\n",
    "from sklearn import utils"
   ]
  },
  {
   "cell_type": "code",
   "execution_count": 25,
   "metadata": {},
   "outputs": [
    {
     "data": {
      "text/html": [
       "<div>\n",
       "<style scoped>\n",
       "    .dataframe tbody tr th:only-of-type {\n",
       "        vertical-align: middle;\n",
       "    }\n",
       "\n",
       "    .dataframe tbody tr th {\n",
       "        vertical-align: top;\n",
       "    }\n",
       "\n",
       "    .dataframe thead th {\n",
       "        text-align: right;\n",
       "    }\n",
       "</style>\n",
       "<table border=\"1\" class=\"dataframe\">\n",
       "  <thead>\n",
       "    <tr style=\"text-align: right;\">\n",
       "      <th></th>\n",
       "      <th>_id</th>\n",
       "      <th>Region</th>\n",
       "      <th>Organ</th>\n",
       "      <th>Donor_Type</th>\n",
       "      <th>Years_Post_Transplant</th>\n",
       "      <th>Number_Functioning_or_Alive</th>\n",
       "      <th>Survival_Rate</th>\n",
       "    </tr>\n",
       "  </thead>\n",
       "  <tbody>\n",
       "    <tr>\n",
       "      <th>0</th>\n",
       "      <td>6032c5d337ca244bc48d66db</td>\n",
       "      <td>U.S.</td>\n",
       "      <td>Kidney</td>\n",
       "      <td>Cadaveric</td>\n",
       "      <td>1 Year</td>\n",
       "      <td>42355</td>\n",
       "      <td>93.2</td>\n",
       "    </tr>\n",
       "    <tr>\n",
       "      <th>1</th>\n",
       "      <td>6032c5d337ca244bc48d66dc</td>\n",
       "      <td>U.S.</td>\n",
       "      <td>Kidney</td>\n",
       "      <td>Living</td>\n",
       "      <td>1 Year</td>\n",
       "      <td>21709</td>\n",
       "      <td>97.5</td>\n",
       "    </tr>\n",
       "    <tr>\n",
       "      <th>2</th>\n",
       "      <td>6032c5d337ca244bc48d66dd</td>\n",
       "      <td>U.S.</td>\n",
       "      <td>Kidney</td>\n",
       "      <td>Cadaveric</td>\n",
       "      <td>3 Year</td>\n",
       "      <td>35404</td>\n",
       "      <td>85.1</td>\n",
       "    </tr>\n",
       "    <tr>\n",
       "      <th>3</th>\n",
       "      <td>6032c5d337ca244bc48d66de</td>\n",
       "      <td>U.S.</td>\n",
       "      <td>Kidney</td>\n",
       "      <td>Living</td>\n",
       "      <td>3 Year</td>\n",
       "      <td>20611</td>\n",
       "      <td>92.5</td>\n",
       "    </tr>\n",
       "    <tr>\n",
       "      <th>4</th>\n",
       "      <td>6032c5d337ca244bc48d66df</td>\n",
       "      <td>U.S.</td>\n",
       "      <td>Kidney</td>\n",
       "      <td>Cadaveric</td>\n",
       "      <td>5 Year</td>\n",
       "      <td>28612</td>\n",
       "      <td>74.4</td>\n",
       "    </tr>\n",
       "    <tr>\n",
       "      <th>5</th>\n",
       "      <td>6032c5d337ca244bc48d66e0</td>\n",
       "      <td>U.S.</td>\n",
       "      <td>Kidney</td>\n",
       "      <td>Living</td>\n",
       "      <td>5 Year</td>\n",
       "      <td>18723</td>\n",
       "      <td>85.6</td>\n",
       "    </tr>\n",
       "    <tr>\n",
       "      <th>6</th>\n",
       "      <td>6032c5d337ca244bc48d66e1</td>\n",
       "      <td>U.S.</td>\n",
       "      <td>Liver</td>\n",
       "      <td>Cadaveric</td>\n",
       "      <td>1 Year</td>\n",
       "      <td>22397</td>\n",
       "      <td>89.1</td>\n",
       "    </tr>\n",
       "    <tr>\n",
       "      <th>7</th>\n",
       "      <td>6032c5d337ca244bc48d66e2</td>\n",
       "      <td>U.S.</td>\n",
       "      <td>Liver</td>\n",
       "      <td>Living</td>\n",
       "      <td>1 Year</td>\n",
       "      <td>992</td>\n",
       "      <td>88.0</td>\n",
       "    </tr>\n",
       "    <tr>\n",
       "      <th>8</th>\n",
       "      <td>6032c5d337ca244bc48d66e3</td>\n",
       "      <td>U.S.</td>\n",
       "      <td>Liver</td>\n",
       "      <td>Cadaveric</td>\n",
       "      <td>3 Year</td>\n",
       "      <td>18876</td>\n",
       "      <td>80.0</td>\n",
       "    </tr>\n",
       "    <tr>\n",
       "      <th>9</th>\n",
       "      <td>6032c5d337ca244bc48d66e4</td>\n",
       "      <td>U.S.</td>\n",
       "      <td>Liver</td>\n",
       "      <td>Living</td>\n",
       "      <td>3 Year</td>\n",
       "      <td>818</td>\n",
       "      <td>82.0</td>\n",
       "    </tr>\n",
       "    <tr>\n",
       "      <th>10</th>\n",
       "      <td>6032c5d337ca244bc48d66e5</td>\n",
       "      <td>U.S.</td>\n",
       "      <td>Liver</td>\n",
       "      <td>Cadaveric</td>\n",
       "      <td>5 Year</td>\n",
       "      <td>16520</td>\n",
       "      <td>71.9</td>\n",
       "    </tr>\n",
       "    <tr>\n",
       "      <th>11</th>\n",
       "      <td>6032c5d337ca244bc48d66e6</td>\n",
       "      <td>U.S.</td>\n",
       "      <td>Liver</td>\n",
       "      <td>Living</td>\n",
       "      <td>5 Year</td>\n",
       "      <td>741</td>\n",
       "      <td>77.3</td>\n",
       "    </tr>\n",
       "  </tbody>\n",
       "</table>\n",
       "</div>"
      ],
      "text/plain": [
       "                         _id Region   Organ Donor_Type Years_Post_Transplant  \\\n",
       "0   6032c5d337ca244bc48d66db   U.S.  Kidney  Cadaveric                1 Year   \n",
       "1   6032c5d337ca244bc48d66dc   U.S.  Kidney     Living                1 Year   \n",
       "2   6032c5d337ca244bc48d66dd   U.S.  Kidney  Cadaveric                3 Year   \n",
       "3   6032c5d337ca244bc48d66de   U.S.  Kidney     Living                3 Year   \n",
       "4   6032c5d337ca244bc48d66df   U.S.  Kidney  Cadaveric                5 Year   \n",
       "5   6032c5d337ca244bc48d66e0   U.S.  Kidney     Living                5 Year   \n",
       "6   6032c5d337ca244bc48d66e1   U.S.   Liver  Cadaveric                1 Year   \n",
       "7   6032c5d337ca244bc48d66e2   U.S.   Liver     Living                1 Year   \n",
       "8   6032c5d337ca244bc48d66e3   U.S.   Liver  Cadaveric                3 Year   \n",
       "9   6032c5d337ca244bc48d66e4   U.S.   Liver     Living                3 Year   \n",
       "10  6032c5d337ca244bc48d66e5   U.S.   Liver  Cadaveric                5 Year   \n",
       "11  6032c5d337ca244bc48d66e6   U.S.   Liver     Living                5 Year   \n",
       "\n",
       "    Number_Functioning_or_Alive  Survival_Rate  \n",
       "0                         42355           93.2  \n",
       "1                         21709           97.5  \n",
       "2                         35404           85.1  \n",
       "3                         20611           92.5  \n",
       "4                         28612           74.4  \n",
       "5                         18723           85.6  \n",
       "6                         22397           89.1  \n",
       "7                           992           88.0  \n",
       "8                         18876           80.0  \n",
       "9                           818           82.0  \n",
       "10                        16520           71.9  \n",
       "11                          741           77.3  "
      ]
     },
     "execution_count": 25,
     "metadata": {},
     "output_type": "execute_result"
    }
   ],
   "source": [
    "survival_by_type= pd.read_csv('Resources/survival_donor_type_df.csv')\n",
    "# survival_by_type[\"Years_Post_Transplant\"] = parse_date(datetime.datetime.strptime(start, '%Y'))\n",
    "survival_by_type"
   ]
  },
  {
   "cell_type": "code",
   "execution_count": 26,
   "metadata": {},
   "outputs": [
    {
     "data": {
      "text/html": [
       "<div>\n",
       "<style scoped>\n",
       "    .dataframe tbody tr th:only-of-type {\n",
       "        vertical-align: middle;\n",
       "    }\n",
       "\n",
       "    .dataframe tbody tr th {\n",
       "        vertical-align: top;\n",
       "    }\n",
       "\n",
       "    .dataframe thead th {\n",
       "        text-align: right;\n",
       "    }\n",
       "</style>\n",
       "<table border=\"1\" class=\"dataframe\">\n",
       "  <thead>\n",
       "    <tr style=\"text-align: right;\">\n",
       "      <th></th>\n",
       "      <th>Organ</th>\n",
       "      <th>Donor_Type</th>\n",
       "      <th>Years_Post_Transplant</th>\n",
       "    </tr>\n",
       "  </thead>\n",
       "  <tbody>\n",
       "    <tr>\n",
       "      <th>0</th>\n",
       "      <td>Kidney</td>\n",
       "      <td>Cadaveric</td>\n",
       "      <td>1 Year</td>\n",
       "    </tr>\n",
       "    <tr>\n",
       "      <th>1</th>\n",
       "      <td>Kidney</td>\n",
       "      <td>Living</td>\n",
       "      <td>1 Year</td>\n",
       "    </tr>\n",
       "    <tr>\n",
       "      <th>2</th>\n",
       "      <td>Kidney</td>\n",
       "      <td>Cadaveric</td>\n",
       "      <td>3 Year</td>\n",
       "    </tr>\n",
       "    <tr>\n",
       "      <th>3</th>\n",
       "      <td>Kidney</td>\n",
       "      <td>Living</td>\n",
       "      <td>3 Year</td>\n",
       "    </tr>\n",
       "    <tr>\n",
       "      <th>4</th>\n",
       "      <td>Kidney</td>\n",
       "      <td>Cadaveric</td>\n",
       "      <td>5 Year</td>\n",
       "    </tr>\n",
       "  </tbody>\n",
       "</table>\n",
       "</div>"
      ],
      "text/plain": [
       "    Organ Donor_Type Years_Post_Transplant\n",
       "0  Kidney  Cadaveric                1 Year\n",
       "1  Kidney     Living                1 Year\n",
       "2  Kidney  Cadaveric                3 Year\n",
       "3  Kidney     Living                3 Year\n",
       "4  Kidney  Cadaveric                5 Year"
      ]
     },
     "execution_count": 26,
     "metadata": {},
     "output_type": "execute_result"
    }
   ],
   "source": [
    "X= survival_by_type.drop(columns=['_id', 'Region', 'Survival_Rate', 'Number_Functioning_or_Alive'])\n",
    "y= survival_by_type[['Survival_Rate']]\n",
    "# y\n",
    "X.head()"
   ]
  },
  {
   "cell_type": "code",
   "execution_count": 27,
   "metadata": {},
   "outputs": [
    {
     "data": {
      "text/html": [
       "<div>\n",
       "<style scoped>\n",
       "    .dataframe tbody tr th:only-of-type {\n",
       "        vertical-align: middle;\n",
       "    }\n",
       "\n",
       "    .dataframe tbody tr th {\n",
       "        vertical-align: top;\n",
       "    }\n",
       "\n",
       "    .dataframe thead th {\n",
       "        text-align: right;\n",
       "    }\n",
       "</style>\n",
       "<table border=\"1\" class=\"dataframe\">\n",
       "  <thead>\n",
       "    <tr style=\"text-align: right;\">\n",
       "      <th></th>\n",
       "      <th>Survival_Rate</th>\n",
       "    </tr>\n",
       "  </thead>\n",
       "  <tbody>\n",
       "    <tr>\n",
       "      <th>0</th>\n",
       "      <td>93.2</td>\n",
       "    </tr>\n",
       "    <tr>\n",
       "      <th>1</th>\n",
       "      <td>97.5</td>\n",
       "    </tr>\n",
       "    <tr>\n",
       "      <th>2</th>\n",
       "      <td>85.1</td>\n",
       "    </tr>\n",
       "    <tr>\n",
       "      <th>3</th>\n",
       "      <td>92.5</td>\n",
       "    </tr>\n",
       "    <tr>\n",
       "      <th>4</th>\n",
       "      <td>74.4</td>\n",
       "    </tr>\n",
       "    <tr>\n",
       "      <th>5</th>\n",
       "      <td>85.6</td>\n",
       "    </tr>\n",
       "    <tr>\n",
       "      <th>6</th>\n",
       "      <td>89.1</td>\n",
       "    </tr>\n",
       "    <tr>\n",
       "      <th>7</th>\n",
       "      <td>88.0</td>\n",
       "    </tr>\n",
       "    <tr>\n",
       "      <th>8</th>\n",
       "      <td>80.0</td>\n",
       "    </tr>\n",
       "    <tr>\n",
       "      <th>9</th>\n",
       "      <td>82.0</td>\n",
       "    </tr>\n",
       "    <tr>\n",
       "      <th>10</th>\n",
       "      <td>71.9</td>\n",
       "    </tr>\n",
       "    <tr>\n",
       "      <th>11</th>\n",
       "      <td>77.3</td>\n",
       "    </tr>\n",
       "  </tbody>\n",
       "</table>\n",
       "</div>"
      ],
      "text/plain": [
       "    Survival_Rate\n",
       "0            93.2\n",
       "1            97.5\n",
       "2            85.1\n",
       "3            92.5\n",
       "4            74.4\n",
       "5            85.6\n",
       "6            89.1\n",
       "7            88.0\n",
       "8            80.0\n",
       "9            82.0\n",
       "10           71.9\n",
       "11           77.3"
      ]
     },
     "execution_count": 27,
     "metadata": {},
     "output_type": "execute_result"
    }
   ],
   "source": [
    "y"
   ]
  },
  {
   "cell_type": "code",
   "execution_count": 28,
   "metadata": {},
   "outputs": [],
   "source": [
    "import seaborn as sns\n",
    "\n",
    "# *** sns.lineplot(x='Organ', data=survival_by_type, y='Survival_Rate')\n",
    "# *** sns.lineplot(x='Donor_Type', data=survival_by_type, y='Survival_Rate')\n",
    "# sns.lineplot(x='Years_Post_Transplant', data=survival_by_type, y='Survival_Rate')\n",
    "# sns.lineplot(x='', data=survival_by_type, y='Survival_Rate')\n",
    "\n",
    "# sns.lineplot(x='Year', y='value', hue='variable', \n",
    "#              data=pd.melt(data_preproc, ['Year']))\n"
   ]
  },
  {
   "cell_type": "code",
   "execution_count": 29,
   "metadata": {},
   "outputs": [
    {
     "data": {
      "text/plain": [
       "array([[0, 0, 0],\n",
       "       [0, 1, 0],\n",
       "       [0, 0, 1],\n",
       "       [0, 1, 1],\n",
       "       [0, 0, 2],\n",
       "       [0, 1, 2],\n",
       "       [1, 0, 0],\n",
       "       [1, 1, 0],\n",
       "       [1, 0, 1],\n",
       "       [1, 1, 1],\n",
       "       [1, 0, 2],\n",
       "       [1, 1, 2]])"
      ]
     },
     "execution_count": 29,
     "metadata": {},
     "output_type": "execute_result"
    }
   ],
   "source": [
    "from sklearn.preprocessing import LabelEncoder\n",
    "\n",
    "label_encoder = LabelEncoder()\n",
    "# # Encode labels in columns\n",
    "X_encoded= X.apply(LabelEncoder().fit_transform)\n",
    "X_encoded_array= np.array(X_encoded)\n",
    "\n",
    "X_encoded_array"
   ]
  },
  {
   "cell_type": "code",
   "execution_count": 111,
   "metadata": {},
   "outputs": [],
   "source": [
    "from sklearn.model_selection import train_test_split\n",
    "X_train, X_test, y_train, y_test = train_test_split(X_encoded_array, y, random_state=100)\n"
   ]
  },
  {
   "cell_type": "code",
   "execution_count": 112,
   "metadata": {},
   "outputs": [
    {
     "name": "stdout",
     "output_type": "stream",
     "text": [
      "[[0 1 2]\n",
      " [0 0 2]\n",
      " [0 0 1]\n",
      " [0 0 0]\n",
      " [1 0 2]\n",
      " [1 1 0]\n",
      " [0 1 1]\n",
      " [1 1 2]\n",
      " [1 0 1]]\n",
      "multiclass-multioutput\n",
      "(9, 3)\n"
     ]
    }
   ],
   "source": [
    "print(X_train)\n",
    "print(utils.multiclass.type_of_target(X_train))\n",
    "print(X_train.shape)"
   ]
  },
  {
   "cell_type": "code",
   "execution_count": 113,
   "metadata": {},
   "outputs": [
    {
     "name": "stdout",
     "output_type": "stream",
     "text": [
      "[[5]\n",
      " [1]\n",
      " [4]\n",
      " [8]\n",
      " [0]\n",
      " [6]\n",
      " [7]\n",
      " [2]\n",
      " [3]]\n",
      "multiclass\n",
      "(9, 1)\n"
     ]
    },
    {
     "name": "stderr",
     "output_type": "stream",
     "text": [
      "/Users/yaden/opt/anaconda3/lib/python3.8/site-packages/sklearn/utils/validation.py:72: DataConversionWarning: A column-vector y was passed when a 1d array was expected. Please change the shape of y to (n_samples, ), for example using ravel().\n",
      "  return f(**kwargs)\n"
     ]
    }
   ],
   "source": [
    "label_encoder= LabelEncoder()\n",
    "y_train_encoded = label_encoder.fit_transform(y_train).reshape(-1,1)\n",
    "\n",
    "print(y_train_encoded)\n",
    "# print(utils.multiclass.type_of_target(y))\n",
    "print(utils.multiclass.type_of_target(y_train_encoded))\n",
    "print(y_train_encoded.shape)"
   ]
  },
  {
   "cell_type": "code",
   "execution_count": 114,
   "metadata": {},
   "outputs": [
    {
     "name": "stdout",
     "output_type": "stream",
     "text": [
      "(9, 3) (9, 1)\n"
     ]
    }
   ],
   "source": [
    "from sklearn.preprocessing import MinMaxScaler\n",
    "\n",
    "# X_train_broadcasted= X_train*y_train_encoded\n",
    "# X_train_broadcasted\n",
    "X_scaler = MinMaxScaler().fit(X_train)\n",
    "X_train_scaled = X_scaler.transform(X_train)\n",
    "X_test_scaled = X_scaler.transform(X_test)\n",
    "\n",
    "y_scaler= MinMaxScaler().fit(y_train_encoded)\n",
    "y_train_scaled= y_scaler.transform(y_train_encoded).reshape(-1,1)\n",
    "y_test_scaled= y_scaler.transform(y_test)\n",
    "\n",
    "print(X_train_scaled.shape, y_train_scaled.shape)"
   ]
  },
  {
   "cell_type": "code",
   "execution_count": 115,
   "metadata": {},
   "outputs": [],
   "source": [
    "# from sklearn.preprocessing import StandardScaler\n",
    "\n",
    "# # Create a StandardScater model and fit it to the training data\n",
    "# X_scaler = StandardScaler().fit(X_train)"
   ]
  },
  {
   "cell_type": "code",
   "execution_count": 116,
   "metadata": {},
   "outputs": [],
   "source": [
    "# X_train_scaled = X_scaler.transform(X_train)\n",
    "# X_test_scaled = X_scaler.transform(X_test)"
   ]
  },
  {
   "cell_type": "code",
   "execution_count": 117,
   "metadata": {},
   "outputs": [
    {
     "name": "stdout",
     "output_type": "stream",
     "text": [
      "continuous-multioutput\n",
      "continuous\n"
     ]
    }
   ],
   "source": [
    "\n",
    "\n",
    "print(utils.multiclass.type_of_target(X_train_scaled))\n",
    "print(utils.multiclass.type_of_target(y_train_scaled))\n"
   ]
  },
  {
   "cell_type": "code",
   "execution_count": 118,
   "metadata": {},
   "outputs": [
    {
     "data": {
      "text/plain": [
       "LinearRegression()"
      ]
     },
     "execution_count": 118,
     "metadata": {},
     "output_type": "execute_result"
    }
   ],
   "source": [
    "from sklearn.linear_model import LinearRegression\n",
    "model = LinearRegression()\n",
    "model.fit(X_train_scaled, y_train_scaled)"
   ]
  },
  {
   "cell_type": "code",
   "execution_count": 119,
   "metadata": {},
   "outputs": [
    {
     "name": "stdout",
     "output_type": "stream",
     "text": [
      "Training Score: 0.9261612021857923\n",
      "Testing Score: -172.51997402915714\n"
     ]
    }
   ],
   "source": [
    "training_score = model.score(X_train_scaled, y_train_scaled)\n",
    "testing_score = model.score(X_test_scaled, y_test_scaled)\n",
    "\n",
    "print(f\"Training Score: {training_score}\")\n",
    "print(f\"Testing Score: {testing_score}\")"
   ]
  },
  {
   "cell_type": "code",
   "execution_count": 121,
   "metadata": {},
   "outputs": [
    {
     "data": {
      "text/plain": [
       "Text(0.5, 1.0, 'Residual Plot')"
      ]
     },
     "execution_count": 121,
     "metadata": {},
     "output_type": "execute_result"
    },
    {
     "data": {
      "image/png": "[encoded data removed]",
      "text/plain": [
       "<Figure size 432x288 with 1 Axes>"
      ]
     },
     "metadata": {
      "needs_background": "light"
     },
     "output_type": "display_data"
    }
   ],
   "source": [
    "plt.scatter(model.predict(X_train_scaled), model.predict(X_train_scaled) - y_train_scaled, c=\"blue\", label=\"Training Data\")\n",
    "plt.scatter(model.predict(X_test_scaled), model.predict(X_test_scaled) - y_test_scaled, c=\"orange\", label=\"Testing Data\")\n",
    "plt.legend()\n",
    "plt.hlines(y=0, xmin=y.min(), xmax=y.max())\n",
    "plt.title(\"Residual Plot\")"
   ]
  },
  {
   "cell_type": "code",
   "execution_count": 122,
   "metadata": {},
   "outputs": [
    {
     "name": "stdout",
     "output_type": "stream",
     "text": [
      "Mean Squared Error (MSE): 7915.115030912668\n",
      "R-squared (R2 ): -196.2095545047727\n"
     ]
    }
   ],
   "source": [
    "# Calculate the mean_squared_error and the r-squared value\n",
    "# for the testing data\n",
    "from sklearn.metrics import mean_squared_error, r2_score\n",
    "\n",
    "# Use our model to make predictions\n",
    "predicted = model.predict(X_test_scaled)\n",
    "\n",
    "# # Score the predictions with mse and r2\n",
    "mse = mean_squared_error(y_test, predicted)\n",
    "r2 = r2_score(y_test, predicted)\n",
    "\n",
    "print(f\"Mean Squared Error (MSE): {mse}\")\n",
    "print(f\"R-squared (R2 ): {r2}\")"
   ]
  },
  {
   "cell_type": "code",
   "execution_count": 123,
   "metadata": {},
   "outputs": [
    {
     "data": {
      "text/plain": [
       "-196.63589602882493"
      ]
     },
     "execution_count": 123,
     "metadata": {},
     "output_type": "execute_result"
    }
   ],
   "source": [
    "model.score(X_test, y_test)"
   ]
  },
  {
   "cell_type": "code",
   "execution_count": 35,
   "metadata": {},
   "outputs": [],
   "source": [
    "# from sklearn.linear_model import LogisticRegression\n",
    "\n",
    "# clf = LogisticRegression()\n",
    "# clf.fit(X_train_scaled, y_train_scaled)\n",
    "# # print(\"LogisticRegression\")\n",
    "# # print(clf.predict(prediction_data_test))"
   ]
  },
  {
   "cell_type": "code",
   "execution_count": 64,
   "metadata": {},
   "outputs": [],
   "source": [
    "# scaled_training_X= np.array(X_train_scaled)\n",
    "# scaled_training_y= np.array(y_train_scaled)\n",
    "# y_train_scaled\n",
    "# X_train_scaled"
   ]
  },
  {
   "cell_type": "code",
   "execution_count": 132,
   "metadata": {},
   "outputs": [],
   "source": [
    "# from sklearn.linear_model import LogisticRegression\n",
    "\n",
    "# model = LogisticRegression()\n",
    "# model.fit(X_train_scaled, y_train_scaled)\n",
    "\n",
    "# model_1 = LogisticRegression(solver='newton-cg', multi_class='auto')\n",
    "# model_1.fit(scaled_training_X, scaled_training_y)\n",
    "\n",
    "# model_1_training_score = round(model_1.score(X_train_scaled, y_train)*100,3)\n",
    "# base_accuracy = round(model_1.score(X_test_scaled, y_test)*100,3)\n",
    "\n",
    "# print(f\"Training Data Score: {model_1_training_score} %\")\n",
    "# print(f\"Testing Data Score: {base_accuracy} %\")\n"
   ]
  },
  {
   "cell_type": "code",
   "execution_count": null,
   "metadata": {},
   "outputs": [],
   "source": []
  }
 ],
 "metadata": {
  "kernelspec": {
   "display_name": "Python 3",
   "language": "python",
   "name": "python3"
  },
  "language_info": {
   "codemirror_mode": {
    "name": "ipython",
    "version": 3
   },
   "file_extension": ".py",
   "mimetype": "text/x-python",
   "name": "python",
   "nbconvert_exporter": "python",
   "pygments_lexer": "ipython3",
   "version": "3.8.5"
  }
 },
 "nbformat": 4,
 "nbformat_minor": 5
}
