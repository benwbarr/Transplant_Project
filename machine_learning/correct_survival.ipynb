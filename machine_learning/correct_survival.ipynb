{
 "cells": [
  {
   "cell_type": "code",
   "execution_count": 251,
   "metadata": {},
   "outputs": [],
   "source": [
    "import pandas as pd \n",
    "import numpy as np\n",
    "import matplotlib.pyplot as plt\n",
    "from sklearn import utils\n",
    "\n",
    "from sklearn.metrics import accuracy_score\n",
    "from sklearn.model_selection import train_test_split\n",
    "from sklearn.model_selection import cross_val_score\n",
    "from sklearn.linear_model import LogisticRegression\n",
    "from sklearn.tree import DecisionTreeClassifier\n",
    "from sklearn.ensemble import RandomForestClassifier"
   ]
  },
  {
   "cell_type": "code",
   "execution_count": 252,
   "metadata": {},
   "outputs": [],
   "source": [
    "survival_by_type= pd.read_csv('Resources/survival_donor_type_df.csv')\n",
    "survival_by_age= pd.read_csv('Resources/survival_age_df.csv')\n",
    "survival_by_diagnoses= pd.read_csv('Resources/survival_diagnose_df.csv')\n",
    "cPRA_scores= pd.read_csv('Resources/clean_cPRA.csv').drop(columns=['Med. Center', 'Unnamed: 0'])\n",
    "\n",
    "med_centers= pd.read_csv('Resources/latLong.csv').drop(columns=['All Centers Hospital Name', 'Address', 'Unnamed: 5',\n",
    "                                                      'lat/long', 'Hospital Name'])\n",
    "# cost_by_type= pd.read_csv('Resources/type-by-money.csv')\n",
    "\n",
    "\n",
    "# med_centers.head()\n",
    "# survival_by_age.head()\n",
    "# cPRA_scores.head()\n",
    "# survival_by_type.head()\n",
    "# survival_by_diagnoses.head()\n",
    "\n",
    "\n",
    "# survival_by_type.Organ.unique()\n",
    "# print(len(cost_by_type))\n",
    "# print(len(survival_by_diagnoses))\n",
    "# print(len(survival_by_age))"
   ]
  },
  {
   "cell_type": "code",
   "execution_count": 253,
   "metadata": {},
   "outputs": [
    {
     "data": {
      "text/html": [
       "<div>\n",
       "<style scoped>\n",
       "    .dataframe tbody tr th:only-of-type {\n",
       "        vertical-align: middle;\n",
       "    }\n",
       "\n",
       "    .dataframe tbody tr th {\n",
       "        vertical-align: top;\n",
       "    }\n",
       "\n",
       "    .dataframe thead th {\n",
       "        text-align: right;\n",
       "    }\n",
       "</style>\n",
       "<table border=\"1\" class=\"dataframe\">\n",
       "  <thead>\n",
       "    <tr style=\"text-align: right;\">\n",
       "      <th></th>\n",
       "      <th>Organ</th>\n",
       "      <th>Recipient_Age</th>\n",
       "      <th>Years_Post_Transplant_x</th>\n",
       "      <th>Number_Functioning_or_Alive_x</th>\n",
       "      <th>Survival_Rate_x</th>\n",
       "      <th>Recipient_Diagnose_Category</th>\n",
       "      <th>Years_Post_Transplant_y</th>\n",
       "      <th>Number_Functioning_or_Alive_y</th>\n",
       "      <th>Survival_Rate_y</th>\n",
       "      <th>cPRA Range</th>\n",
       "      <th>Kidney</th>\n",
       "      <th>Liver</th>\n",
       "      <th>Pancreas</th>\n",
       "      <th>Kidney / Pancreas</th>\n",
       "      <th>Heart</th>\n",
       "    </tr>\n",
       "  </thead>\n",
       "  <tbody>\n",
       "    <tr>\n",
       "      <th>0</th>\n",
       "      <td>Heart</td>\n",
       "      <td>&lt; 1 Year</td>\n",
       "      <td>1.0</td>\n",
       "      <td>405</td>\n",
       "      <td>87.4</td>\n",
       "      <td>Valvular Heart Disease</td>\n",
       "      <td>1.0</td>\n",
       "      <td>110</td>\n",
       "      <td>91.0</td>\n",
       "      <td>0</td>\n",
       "      <td>9</td>\n",
       "      <td>0.0</td>\n",
       "      <td>0.0</td>\n",
       "      <td>0.0</td>\n",
       "      <td>0.0</td>\n",
       "    </tr>\n",
       "    <tr>\n",
       "      <th>1</th>\n",
       "      <td>Heart</td>\n",
       "      <td>&lt; 1 Year</td>\n",
       "      <td>1.0</td>\n",
       "      <td>405</td>\n",
       "      <td>87.4</td>\n",
       "      <td>Retransplant/Graft Failure</td>\n",
       "      <td>5.0</td>\n",
       "      <td>224</td>\n",
       "      <td>68.3</td>\n",
       "      <td>20-79</td>\n",
       "      <td>1</td>\n",
       "      <td>0.0</td>\n",
       "      <td>0.0</td>\n",
       "      <td>0.0</td>\n",
       "      <td>0.0</td>\n",
       "    </tr>\n",
       "    <tr>\n",
       "      <th>2</th>\n",
       "      <td>Heart</td>\n",
       "      <td>&lt; 1 Year</td>\n",
       "      <td>1.0</td>\n",
       "      <td>405</td>\n",
       "      <td>87.4</td>\n",
       "      <td>Cardiomyopathy</td>\n",
       "      <td>1.0</td>\n",
       "      <td>5035</td>\n",
       "      <td>92.0</td>\n",
       "      <td>98-100</td>\n",
       "      <td>5</td>\n",
       "      <td>0.0</td>\n",
       "      <td>0.0</td>\n",
       "      <td>0.0</td>\n",
       "      <td>0.0</td>\n",
       "    </tr>\n",
       "    <tr>\n",
       "      <th>3</th>\n",
       "      <td>Heart</td>\n",
       "      <td>&lt; 1 Year</td>\n",
       "      <td>1.0</td>\n",
       "      <td>405</td>\n",
       "      <td>87.4</td>\n",
       "      <td>Cardiomyopathy</td>\n",
       "      <td>3.0</td>\n",
       "      <td>4183</td>\n",
       "      <td>87.1</td>\n",
       "      <td>0</td>\n",
       "      <td>622</td>\n",
       "      <td>0.0</td>\n",
       "      <td>3.0</td>\n",
       "      <td>7.0</td>\n",
       "      <td>0.0</td>\n",
       "    </tr>\n",
       "    <tr>\n",
       "      <th>4</th>\n",
       "      <td>Heart</td>\n",
       "      <td>&lt; 1 Year</td>\n",
       "      <td>1.0</td>\n",
       "      <td>405</td>\n",
       "      <td>87.4</td>\n",
       "      <td>Valvular Heart Disease</td>\n",
       "      <td>3.0</td>\n",
       "      <td>108</td>\n",
       "      <td>88.7</td>\n",
       "      <td>1-19</td>\n",
       "      <td>46</td>\n",
       "      <td>0.0</td>\n",
       "      <td>0.0</td>\n",
       "      <td>0.0</td>\n",
       "      <td>0.0</td>\n",
       "    </tr>\n",
       "  </tbody>\n",
       "</table>\n",
       "</div>"
      ],
      "text/plain": [
       "   Organ Recipient_Age  Years_Post_Transplant_x  \\\n",
       "0  Heart      < 1 Year                      1.0   \n",
       "1  Heart      < 1 Year                      1.0   \n",
       "2  Heart      < 1 Year                      1.0   \n",
       "3  Heart      < 1 Year                      1.0   \n",
       "4  Heart      < 1 Year                      1.0   \n",
       "\n",
       "   Number_Functioning_or_Alive_x  Survival_Rate_x Recipient_Diagnose_Category  \\\n",
       "0                            405             87.4      Valvular Heart Disease   \n",
       "1                            405             87.4  Retransplant/Graft Failure   \n",
       "2                            405             87.4              Cardiomyopathy   \n",
       "3                            405             87.4              Cardiomyopathy   \n",
       "4                            405             87.4      Valvular Heart Disease   \n",
       "\n",
       "   Years_Post_Transplant_y  Number_Functioning_or_Alive_y  Survival_Rate_y  \\\n",
       "0                      1.0                            110             91.0   \n",
       "1                      5.0                            224             68.3   \n",
       "2                      1.0                           5035             92.0   \n",
       "3                      3.0                           4183             87.1   \n",
       "4                      3.0                            108             88.7   \n",
       "\n",
       "  cPRA Range Kidney  Liver  Pancreas  Kidney / Pancreas  Heart  \n",
       "0          0      9    0.0       0.0                0.0    0.0  \n",
       "1      20-79      1    0.0       0.0                0.0    0.0  \n",
       "2     98-100      5    0.0       0.0                0.0    0.0  \n",
       "3          0    622    0.0       3.0                7.0    0.0  \n",
       "4       1-19     46    0.0       0.0                0.0    0.0  "
      ]
     },
     "execution_count": 253,
     "metadata": {},
     "output_type": "execute_result"
    }
   ],
   "source": [
    "survival_df= pd.merge(survival_by_age, survival_by_diagnoses, on='Organ', how='inner')\n",
    "survival_df\n",
    "joined_df= survival_df.join(cPRA_scores)\n",
    "# joined_df\n",
    "\n",
    "filtered_df= joined_df.drop(columns= ['_id_x', 'Region_x','_id_y', 'Region_y'])\n",
    "filtered_df\n",
    "filtered_df['Years_Post_Transplant_x'] = filtered_df['Years_Post_Transplant_x'].str.replace(r'Year', '').astype(float)\n",
    "filtered_df['Years_Post_Transplant_y'] = filtered_df['Years_Post_Transplant_y'].str.replace(r'Year', '').astype(float)\n",
    "# filtered_df.Organ.unique()\n",
    "\n",
    "main_df= filtered_df.copy()\n",
    "main_df=main_df.dropna()\n",
    "main_df.head()"
   ]
  },
  {
   "cell_type": "code",
   "execution_count": 301,
   "metadata": {},
   "outputs": [
    {
     "data": {
      "text/html": [
       "<div>\n",
       "<style scoped>\n",
       "    .dataframe tbody tr th:only-of-type {\n",
       "        vertical-align: middle;\n",
       "    }\n",
       "\n",
       "    .dataframe tbody tr th {\n",
       "        vertical-align: top;\n",
       "    }\n",
       "\n",
       "    .dataframe thead th {\n",
       "        text-align: right;\n",
       "    }\n",
       "</style>\n",
       "<table border=\"1\" class=\"dataframe\">\n",
       "  <thead>\n",
       "    <tr style=\"text-align: right;\">\n",
       "      <th></th>\n",
       "      <th>Organ</th>\n",
       "      <th>Recipient_Age</th>\n",
       "      <th>Recipient_Diagnose_Category</th>\n",
       "      <th>cPRA Range</th>\n",
       "      <th>Kidney</th>\n",
       "      <th>Liver</th>\n",
       "      <th>Pancreas</th>\n",
       "      <th>Kidney / Pancreas</th>\n",
       "      <th>Heart</th>\n",
       "      <th>Survival Rate</th>\n",
       "      <th>Years Post Transplant</th>\n",
       "      <th>Number Functioning or Alive</th>\n",
       "    </tr>\n",
       "  </thead>\n",
       "  <tbody>\n",
       "    <tr>\n",
       "      <th>0</th>\n",
       "      <td>Heart</td>\n",
       "      <td>&lt; 1 Year</td>\n",
       "      <td>Valvular Heart Disease</td>\n",
       "      <td>0</td>\n",
       "      <td>9</td>\n",
       "      <td>0.0</td>\n",
       "      <td>0.0</td>\n",
       "      <td>0.0</td>\n",
       "      <td>0.0</td>\n",
       "      <td>89.20</td>\n",
       "      <td>1.0</td>\n",
       "      <td>515</td>\n",
       "    </tr>\n",
       "    <tr>\n",
       "      <th>1</th>\n",
       "      <td>Heart</td>\n",
       "      <td>&lt; 1 Year</td>\n",
       "      <td>Retransplant/Graft Failure</td>\n",
       "      <td>20-79</td>\n",
       "      <td>1</td>\n",
       "      <td>0.0</td>\n",
       "      <td>0.0</td>\n",
       "      <td>0.0</td>\n",
       "      <td>0.0</td>\n",
       "      <td>77.85</td>\n",
       "      <td>3.0</td>\n",
       "      <td>629</td>\n",
       "    </tr>\n",
       "    <tr>\n",
       "      <th>2</th>\n",
       "      <td>Heart</td>\n",
       "      <td>&lt; 1 Year</td>\n",
       "      <td>Cardiomyopathy</td>\n",
       "      <td>98-100</td>\n",
       "      <td>5</td>\n",
       "      <td>0.0</td>\n",
       "      <td>0.0</td>\n",
       "      <td>0.0</td>\n",
       "      <td>0.0</td>\n",
       "      <td>89.70</td>\n",
       "      <td>1.0</td>\n",
       "      <td>5440</td>\n",
       "    </tr>\n",
       "    <tr>\n",
       "      <th>3</th>\n",
       "      <td>Heart</td>\n",
       "      <td>&lt; 1 Year</td>\n",
       "      <td>Cardiomyopathy</td>\n",
       "      <td>0</td>\n",
       "      <td>622</td>\n",
       "      <td>0.0</td>\n",
       "      <td>3.0</td>\n",
       "      <td>7.0</td>\n",
       "      <td>0.0</td>\n",
       "      <td>87.25</td>\n",
       "      <td>2.0</td>\n",
       "      <td>4588</td>\n",
       "    </tr>\n",
       "    <tr>\n",
       "      <th>4</th>\n",
       "      <td>Heart</td>\n",
       "      <td>&lt; 1 Year</td>\n",
       "      <td>Valvular Heart Disease</td>\n",
       "      <td>1-19</td>\n",
       "      <td>46</td>\n",
       "      <td>0.0</td>\n",
       "      <td>0.0</td>\n",
       "      <td>0.0</td>\n",
       "      <td>0.0</td>\n",
       "      <td>88.05</td>\n",
       "      <td>2.0</td>\n",
       "      <td>513</td>\n",
       "    </tr>\n",
       "    <tr>\n",
       "      <th>...</th>\n",
       "      <td>...</td>\n",
       "      <td>...</td>\n",
       "      <td>...</td>\n",
       "      <td>...</td>\n",
       "      <td>...</td>\n",
       "      <td>...</td>\n",
       "      <td>...</td>\n",
       "      <td>...</td>\n",
       "      <td>...</td>\n",
       "      <td>...</td>\n",
       "      <td>...</td>\n",
       "      <td>...</td>\n",
       "    </tr>\n",
       "    <tr>\n",
       "      <th>1146</th>\n",
       "      <td>Liver</td>\n",
       "      <td>6-10 Years</td>\n",
       "      <td>Non-Cholestatic Cirrhosis</td>\n",
       "      <td>0</td>\n",
       "      <td>19</td>\n",
       "      <td>0.0</td>\n",
       "      <td>0.0</td>\n",
       "      <td>0.0</td>\n",
       "      <td>0.0</td>\n",
       "      <td>87.80</td>\n",
       "      <td>2.0</td>\n",
       "      <td>7850</td>\n",
       "    </tr>\n",
       "    <tr>\n",
       "      <th>1147</th>\n",
       "      <td>Liver</td>\n",
       "      <td>6-10 Years</td>\n",
       "      <td>Other</td>\n",
       "      <td>1-19</td>\n",
       "      <td>10</td>\n",
       "      <td>0.0</td>\n",
       "      <td>0.0</td>\n",
       "      <td>0.0</td>\n",
       "      <td>0.0</td>\n",
       "      <td>84.00</td>\n",
       "      <td>2.0</td>\n",
       "      <td>747</td>\n",
       "    </tr>\n",
       "    <tr>\n",
       "      <th>1148</th>\n",
       "      <td>Liver</td>\n",
       "      <td>6-10 Years</td>\n",
       "      <td>Acute Hepatic Necrosis</td>\n",
       "      <td>20-79</td>\n",
       "      <td>10</td>\n",
       "      <td>0.0</td>\n",
       "      <td>0.0</td>\n",
       "      <td>0.0</td>\n",
       "      <td>0.0</td>\n",
       "      <td>85.80</td>\n",
       "      <td>3.0</td>\n",
       "      <td>1125</td>\n",
       "    </tr>\n",
       "    <tr>\n",
       "      <th>1149</th>\n",
       "      <td>Liver</td>\n",
       "      <td>6-10 Years</td>\n",
       "      <td>Cystic Fibrosis</td>\n",
       "      <td>80-97</td>\n",
       "      <td>1</td>\n",
       "      <td>0.0</td>\n",
       "      <td>0.0</td>\n",
       "      <td>0.0</td>\n",
       "      <td>0.0</td>\n",
       "      <td>90.80</td>\n",
       "      <td>1.0</td>\n",
       "      <td>321</td>\n",
       "    </tr>\n",
       "    <tr>\n",
       "      <th>1150</th>\n",
       "      <td>Liver</td>\n",
       "      <td>6-10 Years</td>\n",
       "      <td>Non-Cholestatic Cirrhosis</td>\n",
       "      <td>98-100</td>\n",
       "      <td>1</td>\n",
       "      <td>0.0</td>\n",
       "      <td>0.0</td>\n",
       "      <td>0.0</td>\n",
       "      <td>0.0</td>\n",
       "      <td>92.15</td>\n",
       "      <td>1.0</td>\n",
       "      <td>9227</td>\n",
       "    </tr>\n",
       "  </tbody>\n",
       "</table>\n",
       "<p>1151 rows × 12 columns</p>\n",
       "</div>"
      ],
      "text/plain": [
       "      Organ Recipient_Age Recipient_Diagnose_Category cPRA Range Kidney  \\\n",
       "0     Heart      < 1 Year      Valvular Heart Disease          0      9   \n",
       "1     Heart      < 1 Year  Retransplant/Graft Failure      20-79      1   \n",
       "2     Heart      < 1 Year              Cardiomyopathy     98-100      5   \n",
       "3     Heart      < 1 Year              Cardiomyopathy          0    622   \n",
       "4     Heart      < 1 Year      Valvular Heart Disease       1-19     46   \n",
       "...     ...           ...                         ...        ...    ...   \n",
       "1146  Liver    6-10 Years   Non-Cholestatic Cirrhosis          0     19   \n",
       "1147  Liver    6-10 Years                       Other       1-19     10   \n",
       "1148  Liver    6-10 Years      Acute Hepatic Necrosis      20-79     10   \n",
       "1149  Liver    6-10 Years             Cystic Fibrosis      80-97      1   \n",
       "1150  Liver    6-10 Years   Non-Cholestatic Cirrhosis     98-100      1   \n",
       "\n",
       "      Liver  Pancreas  Kidney / Pancreas  Heart  Survival Rate  \\\n",
       "0       0.0       0.0                0.0    0.0          89.20   \n",
       "1       0.0       0.0                0.0    0.0          77.85   \n",
       "2       0.0       0.0                0.0    0.0          89.70   \n",
       "3       0.0       3.0                7.0    0.0          87.25   \n",
       "4       0.0       0.0                0.0    0.0          88.05   \n",
       "...     ...       ...                ...    ...            ...   \n",
       "1146    0.0       0.0                0.0    0.0          87.80   \n",
       "1147    0.0       0.0                0.0    0.0          84.00   \n",
       "1148    0.0       0.0                0.0    0.0          85.80   \n",
       "1149    0.0       0.0                0.0    0.0          90.80   \n",
       "1150    0.0       0.0                0.0    0.0          92.15   \n",
       "\n",
       "      Years Post Transplant  Number Functioning or Alive  \n",
       "0                       1.0                          515  \n",
       "1                       3.0                          629  \n",
       "2                       1.0                         5440  \n",
       "3                       2.0                         4588  \n",
       "4                       2.0                          513  \n",
       "...                     ...                          ...  \n",
       "1146                    2.0                         7850  \n",
       "1147                    2.0                          747  \n",
       "1148                    3.0                         1125  \n",
       "1149                    1.0                          321  \n",
       "1150                    1.0                         9227  \n",
       "\n",
       "[1151 rows x 12 columns]"
      ]
     },
     "execution_count": 301,
     "metadata": {},
     "output_type": "execute_result"
    }
   ],
   "source": [
    "main_df['Survival Rate'] =  main_df[['Survival_Rate_x', 'Survival_Rate_y']].mean(axis=1)\n",
    "main_df['Years Post Transplant'] = main_df[['Years_Post_Transplant_y', 'Years_Post_Transplant_x']].mean(axis=1)\n",
    "main_df['Number Functioning or Alive'] = main_df[\"Number_Functioning_or_Alive_y\"] + main_df[\"Number_Functioning_or_Alive_x\"]\n",
    "\n",
    "final_df= main_df.drop(columns=['Survival_Rate_y', 'Survival_Rate_x', 'Number_Functioning_or_Alive_x', \n",
    "                          'Number_Functioning_or_Alive_y','Years_Post_Transplant_x', 'Years_Post_Transplant_y'])\n",
    "# final_df_copy=final_df.copy()\n",
    "\n",
    "final_df"
   ]
  },
  {
   "cell_type": "code",
   "execution_count": 302,
   "metadata": {},
   "outputs": [
    {
     "data": {
      "text/html": [
       "<div>\n",
       "<style scoped>\n",
       "    .dataframe tbody tr th:only-of-type {\n",
       "        vertical-align: middle;\n",
       "    }\n",
       "\n",
       "    .dataframe tbody tr th {\n",
       "        vertical-align: top;\n",
       "    }\n",
       "\n",
       "    .dataframe thead th {\n",
       "        text-align: right;\n",
       "    }\n",
       "</style>\n",
       "<table border=\"1\" class=\"dataframe\">\n",
       "  <thead>\n",
       "    <tr style=\"text-align: right;\">\n",
       "      <th></th>\n",
       "      <th>0</th>\n",
       "    </tr>\n",
       "  </thead>\n",
       "  <tbody>\n",
       "    <tr>\n",
       "      <th>0</th>\n",
       "      <td>Heart</td>\n",
       "    </tr>\n",
       "    <tr>\n",
       "      <th>1</th>\n",
       "      <td>Heart</td>\n",
       "    </tr>\n",
       "    <tr>\n",
       "      <th>2</th>\n",
       "      <td>Heart</td>\n",
       "    </tr>\n",
       "    <tr>\n",
       "      <th>3</th>\n",
       "      <td>Heart</td>\n",
       "    </tr>\n",
       "    <tr>\n",
       "      <th>4</th>\n",
       "      <td>Heart</td>\n",
       "    </tr>\n",
       "    <tr>\n",
       "      <th>...</th>\n",
       "      <td>...</td>\n",
       "    </tr>\n",
       "    <tr>\n",
       "      <th>1146</th>\n",
       "      <td>Liver</td>\n",
       "    </tr>\n",
       "    <tr>\n",
       "      <th>1147</th>\n",
       "      <td>Liver</td>\n",
       "    </tr>\n",
       "    <tr>\n",
       "      <th>1148</th>\n",
       "      <td>Liver</td>\n",
       "    </tr>\n",
       "    <tr>\n",
       "      <th>1149</th>\n",
       "      <td>Liver</td>\n",
       "    </tr>\n",
       "    <tr>\n",
       "      <th>1150</th>\n",
       "      <td>Liver</td>\n",
       "    </tr>\n",
       "  </tbody>\n",
       "</table>\n",
       "<p>1151 rows × 1 columns</p>\n",
       "</div>"
      ],
      "text/plain": [
       "          0\n",
       "0     Heart\n",
       "1     Heart\n",
       "2     Heart\n",
       "3     Heart\n",
       "4     Heart\n",
       "...     ...\n",
       "1146  Liver\n",
       "1147  Liver\n",
       "1148  Liver\n",
       "1149  Liver\n",
       "1150  Liver\n",
       "\n",
       "[1151 rows x 1 columns]"
      ]
     },
     "execution_count": 302,
     "metadata": {},
     "output_type": "execute_result"
    }
   ],
   "source": [
    "\n",
    "# joined_df.groupby(by= ['Survival_Rate'], dropna= False)\n",
    "\n",
    "X= final_df.drop(columns='Organ')\n",
    "y= pd.DataFrame(final_df['Organ'].values.reshape(-1,1))\n",
    " \n",
    "y\n",
    "# X.head()"
   ]
  },
  {
   "cell_type": "code",
   "execution_count": 303,
   "metadata": {},
   "outputs": [
    {
     "data": {
      "text/plain": [
       "Kidney               0.492615\n",
       "Heart                0.354474\n",
       "Kidney / Pancreas    0.078193\n",
       "Liver                0.074718\n",
       "Name: 0, dtype: float64"
      ]
     },
     "execution_count": 303,
     "metadata": {},
     "output_type": "execute_result"
    }
   ],
   "source": [
    "pd.value_counts(y[0], normalize = True)"
   ]
  },
  {
   "cell_type": "code",
   "execution_count": 304,
   "metadata": {},
   "outputs": [
    {
     "name": "stdout",
     "output_type": "stream",
     "text": [
      "(1151, 11) (1151, 1)\n"
     ]
    }
   ],
   "source": [
    "print(X.shape, y.shape)\n",
    "# X.dtypes"
   ]
  },
  {
   "cell_type": "code",
   "execution_count": 305,
   "metadata": {},
   "outputs": [
    {
     "name": "stdout",
     "output_type": "stream",
     "text": [
      "(380, 11) (380, 1)\n"
     ]
    },
    {
     "data": {
      "text/html": [
       "<div>\n",
       "<style scoped>\n",
       "    .dataframe tbody tr th:only-of-type {\n",
       "        vertical-align: middle;\n",
       "    }\n",
       "\n",
       "    .dataframe tbody tr th {\n",
       "        vertical-align: top;\n",
       "    }\n",
       "\n",
       "    .dataframe thead th {\n",
       "        text-align: right;\n",
       "    }\n",
       "</style>\n",
       "<table border=\"1\" class=\"dataframe\">\n",
       "  <thead>\n",
       "    <tr style=\"text-align: right;\">\n",
       "      <th></th>\n",
       "      <th>0</th>\n",
       "    </tr>\n",
       "  </thead>\n",
       "  <tbody>\n",
       "    <tr>\n",
       "      <th>1092</th>\n",
       "      <td>Liver</td>\n",
       "    </tr>\n",
       "    <tr>\n",
       "      <th>249</th>\n",
       "      <td>Heart</td>\n",
       "    </tr>\n",
       "    <tr>\n",
       "      <th>822</th>\n",
       "      <td>Kidney</td>\n",
       "    </tr>\n",
       "    <tr>\n",
       "      <th>534</th>\n",
       "      <td>Kidney</td>\n",
       "    </tr>\n",
       "    <tr>\n",
       "      <th>71</th>\n",
       "      <td>Heart</td>\n",
       "    </tr>\n",
       "  </tbody>\n",
       "</table>\n",
       "</div>"
      ],
      "text/plain": [
       "           0\n",
       "1092   Liver\n",
       "249    Heart\n",
       "822   Kidney\n",
       "534   Kidney\n",
       "71     Heart"
      ]
     },
     "execution_count": 305,
     "metadata": {},
     "output_type": "execute_result"
    }
   ],
   "source": [
    "from sklearn.model_selection import train_test_split\n",
    "X_train, X_test, y_train, y_test = train_test_split(X, y, test_size = 0.33, random_state = 42)\n",
    "print(X_test.shape, y_test.shape)\n",
    "y_train.head()"
   ]
  },
  {
   "cell_type": "code",
   "execution_count": 306,
   "metadata": {},
   "outputs": [
    {
     "data": {
      "text/html": [
       "<div>\n",
       "<style scoped>\n",
       "    .dataframe tbody tr th:only-of-type {\n",
       "        vertical-align: middle;\n",
       "    }\n",
       "\n",
       "    .dataframe tbody tr th {\n",
       "        vertical-align: top;\n",
       "    }\n",
       "\n",
       "    .dataframe thead th {\n",
       "        text-align: right;\n",
       "    }\n",
       "</style>\n",
       "<table border=\"1\" class=\"dataframe\">\n",
       "  <thead>\n",
       "    <tr style=\"text-align: right;\">\n",
       "      <th></th>\n",
       "      <th>0</th>\n",
       "    </tr>\n",
       "  </thead>\n",
       "  <tbody>\n",
       "    <tr>\n",
       "      <th>174</th>\n",
       "      <td>functional</td>\n",
       "    </tr>\n",
       "    <tr>\n",
       "      <th>752</th>\n",
       "      <td>functional</td>\n",
       "    </tr>\n",
       "    <tr>\n",
       "      <th>467</th>\n",
       "      <td>functional</td>\n",
       "    </tr>\n",
       "    <tr>\n",
       "      <th>240</th>\n",
       "      <td>functional</td>\n",
       "    </tr>\n",
       "    <tr>\n",
       "      <th>667</th>\n",
       "      <td>functional</td>\n",
       "    </tr>\n",
       "  </tbody>\n",
       "</table>\n",
       "</div>"
      ],
      "text/plain": [
       "              0\n",
       "174  functional\n",
       "752  functional\n",
       "467  functional\n",
       "240  functional\n",
       "667  functional"
      ]
     },
     "execution_count": 306,
     "metadata": {},
     "output_type": "execute_result"
    }
   ],
   "source": [
    "y_pred = ['functional'] * len(X_test)\n",
    "y_pred = pd.DataFrame(data = y_pred,\n",
    "                      index = X_test.index.values,\n",
    "                      columns = [0])\n",
    "y_pred.head()"
   ]
  },
  {
   "cell_type": "code",
   "execution_count": 307,
   "metadata": {},
   "outputs": [],
   "source": [
    "# Logistic Regression classifier and score\n",
    "\n",
    "X_train_numerical = X_train.select_dtypes(\n",
    "                         include = np.number).copy()\n",
    "\n",
    "X_train_numerical_indices = X_train_numerical.index.values\n",
    "y_train_numerical = y_train[y_train.index. \\\n",
    "                                    isin(X_train_numerical_indices)]\n"
   ]
  },
  {
   "cell_type": "code",
   "execution_count": 308,
   "metadata": {},
   "outputs": [
    {
     "name": "stderr",
     "output_type": "stream",
     "text": [
      "[Parallel(n_jobs=-1)]: Using backend LokyBackend with 4 concurrent workers.\n",
      "[Parallel(n_jobs=-1)]: Done   3 out of   3 | elapsed:    2.8s finished\n"
     ]
    },
    {
     "data": {
      "text/plain": [
       "array([0.80155642, 0.81712062, 0.79377432])"
      ]
     },
     "execution_count": 308,
     "metadata": {},
     "output_type": "execute_result"
    }
   ],
   "source": [
    "# Decision Tree classifier and score\n",
    "\n",
    "clf = DecisionTreeClassifier()\n",
    "cv_score = cross_val_score(clf, \n",
    "                            X_train_numerical, y_train_numerical,\n",
    "                            scoring = 'accuracy',\n",
    "                            cv = 3,\n",
    "                            n_jobs = -1,\n",
    "                            verbose = 1)\n",
    "cv_score"
   ]
  },
  {
   "cell_type": "code",
   "execution_count": 309,
   "metadata": {},
   "outputs": [],
   "source": [
    "clf.fit(X_train_numerical, y_train_numerical)\n",
    "\n",
    "X_test_numerical = X_test.select_dtypes(include = np.number).copy()\n",
    "\n",
    "\n",
    "\n",
    "y_pred = clf.predict(X_test_numerical)\n",
    "y_pred = pd.DataFrame(data = y_pred, \n",
    "                      index = X_test_numerical.index.values,\n",
    "                      columns = ['Organ'])\n",
    "\n",
    "# y_pred\n",
    "# X_test_numerical\n"
   ]
  },
  {
   "cell_type": "code",
   "execution_count": 310,
   "metadata": {},
   "outputs": [
    {
     "name": "stdout",
     "output_type": "stream",
     "text": [
      "(516, 7) (516, 1)\n"
     ]
    }
   ],
   "source": [
    "X_train, X_test, y_train, y_test = train_test_split(X_train_numerical, y_train_numerical, \n",
    "                                                    test_size = 0.33, random_state = 42)\n",
    "print(X_train.shape, y_train.shape)"
   ]
  },
  {
   "cell_type": "code",
   "execution_count": 311,
   "metadata": {},
   "outputs": [
    {
     "name": "stderr",
     "output_type": "stream",
     "text": [
      "[Parallel(n_jobs=-1)]: Using backend LokyBackend with 4 concurrent workers.\n",
      "[Parallel(n_jobs=-1)]: Done   3 out of   3 | elapsed:    1.2s finished\n"
     ]
    },
    {
     "data": {
      "text/plain": [
       "array([0.81712062, 0.79766537, 0.78599222])"
      ]
     },
     "execution_count": 311,
     "metadata": {},
     "output_type": "execute_result"
    }
   ],
   "source": [
    "# Encode columns that have < 50 unique values, add the numerical columns to df.\n",
    "# Ran a Decision Tree classifier again and increased scores\n",
    "\n",
    "X_selected = X_train.loc[:, X_train.nunique().sort_values()\\\n",
    "                             < 50]\n",
    "cat_cols = list(X_selected.select_dtypes(['object']).columns.values)\n",
    "X_categorical = X_selected[cat_cols].apply(lambda x: x.astype('category').cat.codes)\n",
    "X_train_selected = X_train_numerical.join(X_categorical)\n",
    "clf = DecisionTreeClassifier()\n",
    "cv_score = cross_val_score(clf, \n",
    "                            X_train_selected, y_train_numerical,\n",
    "                            scoring = 'accuracy',\n",
    "                            cv = 3,\n",
    "                            n_jobs = -1,\n",
    "                            verbose = 1)\n",
    "cv_score\n",
    "# print(X_train_selected)"
   ]
  },
  {
   "cell_type": "code",
   "execution_count": null,
   "metadata": {},
   "outputs": [],
   "source": []
  },
  {
   "cell_type": "code",
   "execution_count": 348,
   "metadata": {},
   "outputs": [],
   "source": [
    "X_train_array= np.array(X_train_numerical)\n",
    "y_train_array= np.array(y_train_numerical)\n",
    "\n",
    "y2= pd.get_dummies(y_train_numerical).values.astype(float)\n",
    "X2= pd.get_dummies(X_train_selected).values\n"
   ]
  },
  {
   "cell_type": "code",
   "execution_count": 269,
   "metadata": {},
   "outputs": [],
   "source": [
    "\n",
    "# y_train= np.delete(axis=1)\n",
    "# y_test.drop(axis=1)\n",
    "# print(X_train.shape, y_train.shape)"
   ]
  },
  {
   "cell_type": "code",
   "execution_count": 356,
   "metadata": {},
   "outputs": [
    {
     "name": "stdout",
     "output_type": "stream",
     "text": [
      "(516, 7) (516, 4)\n"
     ]
    },
    {
     "data": {
      "text/plain": [
       "array([[0., 1., 0., 0.],\n",
       "       [1., 0., 0., 0.],\n",
       "       [1., 0., 0., 0.],\n",
       "       ...,\n",
       "       [0., 1., 0., 0.],\n",
       "       [0., 1., 0., 0.],\n",
       "       [1., 0., 0., 0.]])"
      ]
     },
     "execution_count": 356,
     "metadata": {},
     "output_type": "execute_result"
    }
   ],
   "source": [
    "X_train, X_test, y_train, y_test = train_test_split(X2, y2, \n",
    "                                                    test_size = 0.33, random_state = 42)\n",
    "print(X_train.shape, y_train.shape)\n",
    "y_test"
   ]
  },
  {
   "cell_type": "code",
   "execution_count": 350,
   "metadata": {},
   "outputs": [
    {
     "name": "stdout",
     "output_type": "stream",
     "text": [
      "0.9324579583908325\n",
      "0.4940953049913316\n",
      "(516, 7) (516, 4)\n"
     ]
    }
   ],
   "source": [
    "from sklearn.ensemble import RandomForestRegressor\n",
    "\n",
    "rfr=RandomForestRegressor()\n",
    "rfr.fit(X_train, y_train)\n",
    "print(rfr.score(X_train, y_train))\n",
    "print(rfr.score(X_test, y_test))\n",
    "# y_train_array\n",
    "\n",
    "print(X_train.shape, y_train.shape)\n",
    "# y_train.dtypes.astype(int)"
   ]
  },
  {
   "cell_type": "code",
   "execution_count": 351,
   "metadata": {},
   "outputs": [],
   "source": [
    "from sklearn.preprocessing import StandardScaler\n",
    "\n",
    "sc = StandardScaler()\n",
    "X_train = sc.fit_transform(X_train)\n",
    "X_test = sc.transform(X_test)"
   ]
  },
  {
   "cell_type": "code",
   "execution_count": 358,
   "metadata": {},
   "outputs": [
    {
     "data": {
      "text/plain": [
       "array([[0.  , 1.  , 0.  , 0.  ],\n",
       "       [0.91, 0.03, 0.06, 0.  ],\n",
       "       [0.24, 0.61, 0.  , 0.15],\n",
       "       ...,\n",
       "       [0.  , 1.  , 0.  , 0.  ],\n",
       "       [0.28, 0.53, 0.19, 0.  ],\n",
       "       [0.98, 0.02, 0.  , 0.  ]])"
      ]
     },
     "execution_count": 358,
     "metadata": {},
     "output_type": "execute_result"
    }
   ],
   "source": [
    "y_pred = rfr.predict(X_test)\n",
    "# y_pred= pd.DataFrame(y_pred)\n",
    "\n",
    "y_pred"
   ]
  },
  {
   "cell_type": "code",
   "execution_count": 368,
   "metadata": {},
   "outputs": [
    {
     "name": "stdout",
     "output_type": "stream",
     "text": [
      "continuous-multioutput\n",
      "multilabel-indicator\n"
     ]
    }
   ],
   "source": [
    "\n",
    "print(utils.multiclass.type_of_target(y_pred))\n",
    "print(utils.multiclass.type_of_target(y_test))\n"
   ]
  },
  {
   "cell_type": "code",
   "execution_count": 369,
   "metadata": {},
   "outputs": [],
   "source": [
    "from sklearn.metrics import classification_report, confusion_matrix, accuracy_score\n",
    "\n",
    "# print(confusion_matrix(y_test,y_pred))\n",
    "# print(classification_report(y_test,y_pred))\n",
    "# print(accuracy_score(y_test, y_pred))"
   ]
  },
  {
   "cell_type": "code",
   "execution_count": null,
   "metadata": {},
   "outputs": [],
   "source": []
  },
  {
   "cell_type": "code",
   "execution_count": 315,
   "metadata": {},
   "outputs": [
    {
     "name": "stdout",
     "output_type": "stream",
     "text": [
      "Fitting 3 folds for each of 12 candidates, totalling 36 fits\n",
      "[CV] max_depth=6, n_estimators=15 ....................................\n",
      "[CV]  max_depth=6, n_estimators=15, score=(train=0.840, test=0.762), total=   0.1s\n",
      "[CV] max_depth=6, n_estimators=15 ....................................\n"
     ]
    },
    {
     "name": "stderr",
     "output_type": "stream",
     "text": [
      "[Parallel(n_jobs=1)]: Using backend SequentialBackend with 1 concurrent workers.\n",
      "[Parallel(n_jobs=1)]: Done   1 out of   1 | elapsed:    0.1s remaining:    0.0s\n"
     ]
    },
    {
     "name": "stdout",
     "output_type": "stream",
     "text": [
      "[CV]  max_depth=6, n_estimators=15, score=(train=0.834, test=0.785), total=   0.1s\n",
      "[CV] max_depth=6, n_estimators=15 ....................................\n",
      "[CV]  max_depth=6, n_estimators=15, score=(train=0.840, test=0.727), total=   0.1s\n",
      "[CV] max_depth=6, n_estimators=25 ....................................\n",
      "[CV]  max_depth=6, n_estimators=25, score=(train=0.855, test=0.767), total=   0.1s\n",
      "[CV] max_depth=6, n_estimators=25 ....................................\n"
     ]
    },
    {
     "name": "stderr",
     "output_type": "stream",
     "text": [
      "[Parallel(n_jobs=1)]: Done   2 out of   2 | elapsed:    0.3s remaining:    0.0s\n",
      "[Parallel(n_jobs=1)]: Done   3 out of   3 | elapsed:    0.3s remaining:    0.0s\n",
      "[Parallel(n_jobs=1)]: Done   4 out of   4 | elapsed:    0.4s remaining:    0.0s\n"
     ]
    },
    {
     "name": "stdout",
     "output_type": "stream",
     "text": [
      "[CV]  max_depth=6, n_estimators=25, score=(train=0.837, test=0.767), total=   0.1s\n",
      "[CV] max_depth=6, n_estimators=25 ....................................\n",
      "[CV]  max_depth=6, n_estimators=25, score=(train=0.846, test=0.762), total=   0.1s\n",
      "[CV] max_depth=6, n_estimators=35 ....................................\n"
     ]
    },
    {
     "name": "stderr",
     "output_type": "stream",
     "text": [
      "[Parallel(n_jobs=1)]: Done   5 out of   5 | elapsed:    0.5s remaining:    0.0s\n",
      "[Parallel(n_jobs=1)]: Done   6 out of   6 | elapsed:    0.6s remaining:    0.0s\n"
     ]
    },
    {
     "name": "stdout",
     "output_type": "stream",
     "text": [
      "[CV]  max_depth=6, n_estimators=35, score=(train=0.846, test=0.779), total=   0.1s\n",
      "[CV] max_depth=6, n_estimators=35 ....................................\n",
      "[CV]  max_depth=6, n_estimators=35, score=(train=0.840, test=0.744), total=   0.1s\n",
      "[CV] max_depth=6, n_estimators=35 ....................................\n"
     ]
    },
    {
     "name": "stderr",
     "output_type": "stream",
     "text": [
      "[Parallel(n_jobs=1)]: Done   7 out of   7 | elapsed:    0.8s remaining:    0.0s\n",
      "[Parallel(n_jobs=1)]: Done   8 out of   8 | elapsed:    0.9s remaining:    0.0s\n"
     ]
    },
    {
     "name": "stdout",
     "output_type": "stream",
     "text": [
      "[CV]  max_depth=6, n_estimators=35, score=(train=0.843, test=0.727), total=   0.1s\n",
      "[CV] max_depth=10, n_estimators=15 ...................................\n",
      "[CV]  max_depth=10, n_estimators=15, score=(train=0.968, test=0.756), total=   0.1s\n",
      "[CV] max_depth=10, n_estimators=15 ...................................\n",
      "[CV]  max_depth=10, n_estimators=15, score=(train=0.968, test=0.779), total=   0.1s\n",
      "[CV] max_depth=10, n_estimators=15 ...................................\n"
     ]
    },
    {
     "name": "stderr",
     "output_type": "stream",
     "text": [
      "[Parallel(n_jobs=1)]: Done   9 out of   9 | elapsed:    1.1s remaining:    0.0s\n"
     ]
    },
    {
     "name": "stdout",
     "output_type": "stream",
     "text": [
      "[CV]  max_depth=10, n_estimators=15, score=(train=0.956, test=0.738), total=   0.1s\n",
      "[CV] max_depth=10, n_estimators=25 ...................................\n",
      "[CV]  max_depth=10, n_estimators=25, score=(train=0.980, test=0.797), total=   0.1s\n",
      "[CV] max_depth=10, n_estimators=25 ...................................\n",
      "[CV]  max_depth=10, n_estimators=25, score=(train=0.985, test=0.791), total=   0.1s\n",
      "[CV] max_depth=10, n_estimators=25 ...................................\n",
      "[CV]  max_depth=10, n_estimators=25, score=(train=0.968, test=0.767), total=   0.1s\n",
      "[CV] max_depth=10, n_estimators=35 ...................................\n",
      "[CV]  max_depth=10, n_estimators=35, score=(train=0.968, test=0.779), total=   0.1s\n",
      "[CV] max_depth=10, n_estimators=35 ...................................\n",
      "[CV]  max_depth=10, n_estimators=35, score=(train=0.974, test=0.773), total=   0.2s\n",
      "[CV] max_depth=10, n_estimators=35 ...................................\n",
      "[CV]  max_depth=10, n_estimators=35, score=(train=0.977, test=0.767), total=   0.1s\n",
      "[CV] max_depth=20, n_estimators=15 ...................................\n",
      "[CV]  max_depth=20, n_estimators=15, score=(train=0.994, test=0.767), total=   0.1s\n",
      "[CV] max_depth=20, n_estimators=15 ...................................\n",
      "[CV]  max_depth=20, n_estimators=15, score=(train=0.997, test=0.715), total=   0.1s\n",
      "[CV] max_depth=20, n_estimators=15 ...................................\n",
      "[CV]  max_depth=20, n_estimators=15, score=(train=0.991, test=0.779), total=   0.1s\n",
      "[CV] max_depth=20, n_estimators=25 ...................................\n",
      "[CV]  max_depth=20, n_estimators=25, score=(train=0.994, test=0.797), total=   0.1s\n",
      "[CV] max_depth=20, n_estimators=25 ...................................\n",
      "[CV]  max_depth=20, n_estimators=25, score=(train=0.997, test=0.767), total=   0.1s\n",
      "[CV] max_depth=20, n_estimators=25 ...................................\n",
      "[CV]  max_depth=20, n_estimators=25, score=(train=0.997, test=0.767), total=   0.1s\n",
      "[CV] max_depth=20, n_estimators=35 ...................................\n",
      "[CV]  max_depth=20, n_estimators=35, score=(train=0.997, test=0.797), total=   0.1s\n",
      "[CV] max_depth=20, n_estimators=35 ...................................\n",
      "[CV]  max_depth=20, n_estimators=35, score=(train=0.997, test=0.767), total=   0.1s\n",
      "[CV] max_depth=20, n_estimators=35 ...................................\n",
      "[CV]  max_depth=20, n_estimators=35, score=(train=0.997, test=0.797), total=   0.2s\n",
      "[CV] max_depth=30, n_estimators=15 ...................................\n",
      "[CV]  max_depth=30, n_estimators=15, score=(train=1.000, test=0.797), total=   0.1s\n",
      "[CV] max_depth=30, n_estimators=15 ...................................\n",
      "[CV]  max_depth=30, n_estimators=15, score=(train=0.991, test=0.727), total=   0.1s\n",
      "[CV] max_depth=30, n_estimators=15 ...................................\n",
      "[CV]  max_depth=30, n_estimators=15, score=(train=0.991, test=0.750), total=   0.1s\n",
      "[CV] max_depth=30, n_estimators=25 ...................................\n",
      "[CV]  max_depth=30, n_estimators=25, score=(train=0.994, test=0.791), total=   0.2s\n",
      "[CV] max_depth=30, n_estimators=25 ...................................\n",
      "[CV]  max_depth=30, n_estimators=25, score=(train=1.000, test=0.779), total=   0.1s\n",
      "[CV] max_depth=30, n_estimators=25 ...................................\n",
      "[CV]  max_depth=30, n_estimators=25, score=(train=0.997, test=0.785), total=   0.1s\n",
      "[CV] max_depth=30, n_estimators=35 ...................................\n",
      "[CV]  max_depth=30, n_estimators=35, score=(train=1.000, test=0.797), total=   0.1s\n",
      "[CV] max_depth=30, n_estimators=35 ...................................\n",
      "[CV]  max_depth=30, n_estimators=35, score=(train=1.000, test=0.779), total=   0.1s\n",
      "[CV] max_depth=30, n_estimators=35 ...................................\n",
      "[CV]  max_depth=30, n_estimators=35, score=(train=0.994, test=0.756), total=   0.2s\n"
     ]
    },
    {
     "name": "stderr",
     "output_type": "stream",
     "text": [
      "[Parallel(n_jobs=1)]: Done  36 out of  36 | elapsed:    4.6s finished\n"
     ]
    },
    {
     "data": {
      "text/plain": [
       "GridSearchCV(cv=3, estimator=RandomForestClassifier(n_jobs=-1),\n",
       "             param_grid={'max_depth': [6, 10, 20, 30],\n",
       "                         'n_estimators': [15, 25, 35]},\n",
       "             return_train_score=True, scoring='accuracy', verbose=10)"
      ]
     },
     "execution_count": 315,
     "metadata": {},
     "output_type": "execute_result"
    }
   ],
   "source": [
    "from sklearn.model_selection import GridSearchCV\n",
    "\n",
    "param_grid = {\n",
    "    'n_estimators': [15, 25, 35],\n",
    "    'max_depth': [6, 10, 20, 30]\n",
    "}\n",
    "gridsearch = GridSearchCV(RandomForestClassifier(n_jobs = -1), \n",
    "                          param_grid=param_grid, \n",
    "                          scoring='accuracy', cv=3, \n",
    "                          return_train_score=True, verbose=10)\n",
    "gridsearch.fit(X_train, y_train)\n",
    "\n",
    "# The variable ‘cv’ gives the number of cross-validation folds that grid search should use. \n",
    "# cv = 3 will split our data into 3 equal parts.\n",
    "# Then use two of them for training the RandomForest classifier, and test with the remaining data. \n",
    "# Keeps going until all combinations are exhausted."
   ]
  },
  {
   "cell_type": "code",
   "execution_count": 316,
   "metadata": {},
   "outputs": [
    {
     "data": {
      "text/html": [
       "<div>\n",
       "<style scoped>\n",
       "    .dataframe tbody tr th:only-of-type {\n",
       "        vertical-align: middle;\n",
       "    }\n",
       "\n",
       "    .dataframe tbody tr th {\n",
       "        vertical-align: top;\n",
       "    }\n",
       "\n",
       "    .dataframe thead th {\n",
       "        text-align: right;\n",
       "    }\n",
       "</style>\n",
       "<table border=\"1\" class=\"dataframe\">\n",
       "  <thead>\n",
       "    <tr style=\"text-align: right;\">\n",
       "      <th></th>\n",
       "      <th>mean_fit_time</th>\n",
       "      <th>std_fit_time</th>\n",
       "      <th>mean_score_time</th>\n",
       "      <th>std_score_time</th>\n",
       "      <th>param_max_depth</th>\n",
       "      <th>param_n_estimators</th>\n",
       "      <th>params</th>\n",
       "      <th>split0_test_score</th>\n",
       "      <th>split1_test_score</th>\n",
       "      <th>split2_test_score</th>\n",
       "      <th>mean_test_score</th>\n",
       "      <th>std_test_score</th>\n",
       "      <th>rank_test_score</th>\n",
       "      <th>split0_train_score</th>\n",
       "      <th>split1_train_score</th>\n",
       "      <th>split2_train_score</th>\n",
       "      <th>mean_train_score</th>\n",
       "      <th>std_train_score</th>\n",
       "    </tr>\n",
       "  </thead>\n",
       "  <tbody>\n",
       "    <tr>\n",
       "      <th>8</th>\n",
       "      <td>0.120268</td>\n",
       "      <td>0.021325</td>\n",
       "      <td>0.022853</td>\n",
       "      <td>0.004104</td>\n",
       "      <td>20</td>\n",
       "      <td>35</td>\n",
       "      <td>{'max_depth': 20, 'n_estimators': 35}</td>\n",
       "      <td>0.796512</td>\n",
       "      <td>0.767442</td>\n",
       "      <td>0.796512</td>\n",
       "      <td>0.786822</td>\n",
       "      <td>0.013704</td>\n",
       "      <td>1</td>\n",
       "      <td>0.997093</td>\n",
       "      <td>0.997093</td>\n",
       "      <td>0.997093</td>\n",
       "      <td>0.997093</td>\n",
       "      <td>1.110223e-16</td>\n",
       "    </tr>\n",
       "    <tr>\n",
       "      <th>4</th>\n",
       "      <td>0.063090</td>\n",
       "      <td>0.008922</td>\n",
       "      <td>0.012493</td>\n",
       "      <td>0.000774</td>\n",
       "      <td>10</td>\n",
       "      <td>25</td>\n",
       "      <td>{'max_depth': 10, 'n_estimators': 25}</td>\n",
       "      <td>0.796512</td>\n",
       "      <td>0.790698</td>\n",
       "      <td>0.767442</td>\n",
       "      <td>0.784884</td>\n",
       "      <td>0.012560</td>\n",
       "      <td>2</td>\n",
       "      <td>0.979651</td>\n",
       "      <td>0.985465</td>\n",
       "      <td>0.968023</td>\n",
       "      <td>0.977713</td>\n",
       "      <td>7.251274e-03</td>\n",
       "    </tr>\n",
       "    <tr>\n",
       "      <th>10</th>\n",
       "      <td>0.103883</td>\n",
       "      <td>0.032962</td>\n",
       "      <td>0.020134</td>\n",
       "      <td>0.007241</td>\n",
       "      <td>30</td>\n",
       "      <td>25</td>\n",
       "      <td>{'max_depth': 30, 'n_estimators': 25}</td>\n",
       "      <td>0.790698</td>\n",
       "      <td>0.779070</td>\n",
       "      <td>0.784884</td>\n",
       "      <td>0.784884</td>\n",
       "      <td>0.004747</td>\n",
       "      <td>2</td>\n",
       "      <td>0.994186</td>\n",
       "      <td>1.000000</td>\n",
       "      <td>0.997093</td>\n",
       "      <td>0.997093</td>\n",
       "      <td>2.373537e-03</td>\n",
       "    </tr>\n",
       "    <tr>\n",
       "      <th>7</th>\n",
       "      <td>0.069460</td>\n",
       "      <td>0.007973</td>\n",
       "      <td>0.015316</td>\n",
       "      <td>0.002151</td>\n",
       "      <td>20</td>\n",
       "      <td>25</td>\n",
       "      <td>{'max_depth': 20, 'n_estimators': 25}</td>\n",
       "      <td>0.796512</td>\n",
       "      <td>0.767442</td>\n",
       "      <td>0.767442</td>\n",
       "      <td>0.777132</td>\n",
       "      <td>0.013704</td>\n",
       "      <td>4</td>\n",
       "      <td>0.994186</td>\n",
       "      <td>0.997093</td>\n",
       "      <td>0.997093</td>\n",
       "      <td>0.996124</td>\n",
       "      <td>1.370362e-03</td>\n",
       "    </tr>\n",
       "    <tr>\n",
       "      <th>11</th>\n",
       "      <td>0.124577</td>\n",
       "      <td>0.033945</td>\n",
       "      <td>0.018024</td>\n",
       "      <td>0.003600</td>\n",
       "      <td>30</td>\n",
       "      <td>35</td>\n",
       "      <td>{'max_depth': 30, 'n_estimators': 35}</td>\n",
       "      <td>0.796512</td>\n",
       "      <td>0.779070</td>\n",
       "      <td>0.755814</td>\n",
       "      <td>0.777132</td>\n",
       "      <td>0.016671</td>\n",
       "      <td>4</td>\n",
       "      <td>1.000000</td>\n",
       "      <td>1.000000</td>\n",
       "      <td>0.994186</td>\n",
       "      <td>0.998062</td>\n",
       "      <td>2.740724e-03</td>\n",
       "    </tr>\n",
       "  </tbody>\n",
       "</table>\n",
       "</div>"
      ],
      "text/plain": [
       "    mean_fit_time  std_fit_time  mean_score_time  std_score_time  \\\n",
       "8        0.120268      0.021325         0.022853        0.004104   \n",
       "4        0.063090      0.008922         0.012493        0.000774   \n",
       "10       0.103883      0.032962         0.020134        0.007241   \n",
       "7        0.069460      0.007973         0.015316        0.002151   \n",
       "11       0.124577      0.033945         0.018024        0.003600   \n",
       "\n",
       "   param_max_depth param_n_estimators                                 params  \\\n",
       "8               20                 35  {'max_depth': 20, 'n_estimators': 35}   \n",
       "4               10                 25  {'max_depth': 10, 'n_estimators': 25}   \n",
       "10              30                 25  {'max_depth': 30, 'n_estimators': 25}   \n",
       "7               20                 25  {'max_depth': 20, 'n_estimators': 25}   \n",
       "11              30                 35  {'max_depth': 30, 'n_estimators': 35}   \n",
       "\n",
       "    split0_test_score  split1_test_score  split2_test_score  mean_test_score  \\\n",
       "8            0.796512           0.767442           0.796512         0.786822   \n",
       "4            0.796512           0.790698           0.767442         0.784884   \n",
       "10           0.790698           0.779070           0.784884         0.784884   \n",
       "7            0.796512           0.767442           0.767442         0.777132   \n",
       "11           0.796512           0.779070           0.755814         0.777132   \n",
       "\n",
       "    std_test_score  rank_test_score  split0_train_score  split1_train_score  \\\n",
       "8         0.013704                1            0.997093            0.997093   \n",
       "4         0.012560                2            0.979651            0.985465   \n",
       "10        0.004747                2            0.994186            1.000000   \n",
       "7         0.013704                4            0.994186            0.997093   \n",
       "11        0.016671                4            1.000000            1.000000   \n",
       "\n",
       "    split2_train_score  mean_train_score  std_train_score  \n",
       "8             0.997093          0.997093     1.110223e-16  \n",
       "4             0.968023          0.977713     7.251274e-03  \n",
       "10            0.997093          0.997093     2.373537e-03  \n",
       "7             0.997093          0.996124     1.370362e-03  \n",
       "11            0.994186          0.998062     2.740724e-03  "
      ]
     },
     "execution_count": 316,
     "metadata": {},
     "output_type": "execute_result"
    }
   ],
   "source": [
    "gridsearch_summary= pd.DataFrame(gridsearch.cv_results_).sort_values( \\\n",
    "                                         by='rank_test_score')\n",
    "gridsearch_summary.head()\n",
    "\n",
    "# Top row of summary shows the param_grid options that gave the best score on test data. \n",
    "# This is shown in the mean_test_score column where our score is 0.87. Same as the Decision Tree classifier.\n"
   ]
  },
  {
   "cell_type": "code",
   "execution_count": 317,
   "metadata": {},
   "outputs": [
    {
     "data": {
      "text/html": [
       "<div>\n",
       "<style scoped>\n",
       "    .dataframe tbody tr th:only-of-type {\n",
       "        vertical-align: middle;\n",
       "    }\n",
       "\n",
       "    .dataframe tbody tr th {\n",
       "        vertical-align: top;\n",
       "    }\n",
       "\n",
       "    .dataframe thead th {\n",
       "        text-align: right;\n",
       "    }\n",
       "</style>\n",
       "<table border=\"1\" class=\"dataframe\">\n",
       "  <thead>\n",
       "    <tr style=\"text-align: right;\">\n",
       "      <th></th>\n",
       "      <th>mean_fit_time</th>\n",
       "      <th>std_fit_time</th>\n",
       "      <th>mean_score_time</th>\n",
       "      <th>std_score_time</th>\n",
       "      <th>param_max_depth</th>\n",
       "      <th>param_n_estimators</th>\n",
       "      <th>params</th>\n",
       "      <th>split0_test_score</th>\n",
       "      <th>split1_test_score</th>\n",
       "      <th>split2_test_score</th>\n",
       "      <th>mean_test_score</th>\n",
       "      <th>std_test_score</th>\n",
       "      <th>rank_test_score</th>\n",
       "      <th>split0_train_score</th>\n",
       "      <th>split1_train_score</th>\n",
       "      <th>split2_train_score</th>\n",
       "      <th>mean_train_score</th>\n",
       "      <th>std_train_score</th>\n",
       "    </tr>\n",
       "  </thead>\n",
       "  <tbody>\n",
       "    <tr>\n",
       "      <th>8</th>\n",
       "      <td>0.120268</td>\n",
       "      <td>0.021325</td>\n",
       "      <td>0.022853</td>\n",
       "      <td>0.004104</td>\n",
       "      <td>20</td>\n",
       "      <td>35</td>\n",
       "      <td>{'max_depth': 20, 'n_estimators': 35}</td>\n",
       "      <td>0.796512</td>\n",
       "      <td>0.767442</td>\n",
       "      <td>0.796512</td>\n",
       "      <td>0.786822</td>\n",
       "      <td>0.013704</td>\n",
       "      <td>1</td>\n",
       "      <td>0.997093</td>\n",
       "      <td>0.997093</td>\n",
       "      <td>0.997093</td>\n",
       "      <td>0.997093</td>\n",
       "      <td>1.110223e-16</td>\n",
       "    </tr>\n",
       "    <tr>\n",
       "      <th>4</th>\n",
       "      <td>0.063090</td>\n",
       "      <td>0.008922</td>\n",
       "      <td>0.012493</td>\n",
       "      <td>0.000774</td>\n",
       "      <td>10</td>\n",
       "      <td>25</td>\n",
       "      <td>{'max_depth': 10, 'n_estimators': 25}</td>\n",
       "      <td>0.796512</td>\n",
       "      <td>0.790698</td>\n",
       "      <td>0.767442</td>\n",
       "      <td>0.784884</td>\n",
       "      <td>0.012560</td>\n",
       "      <td>2</td>\n",
       "      <td>0.979651</td>\n",
       "      <td>0.985465</td>\n",
       "      <td>0.968023</td>\n",
       "      <td>0.977713</td>\n",
       "      <td>7.251274e-03</td>\n",
       "    </tr>\n",
       "    <tr>\n",
       "      <th>10</th>\n",
       "      <td>0.103883</td>\n",
       "      <td>0.032962</td>\n",
       "      <td>0.020134</td>\n",
       "      <td>0.007241</td>\n",
       "      <td>30</td>\n",
       "      <td>25</td>\n",
       "      <td>{'max_depth': 30, 'n_estimators': 25}</td>\n",
       "      <td>0.790698</td>\n",
       "      <td>0.779070</td>\n",
       "      <td>0.784884</td>\n",
       "      <td>0.784884</td>\n",
       "      <td>0.004747</td>\n",
       "      <td>2</td>\n",
       "      <td>0.994186</td>\n",
       "      <td>1.000000</td>\n",
       "      <td>0.997093</td>\n",
       "      <td>0.997093</td>\n",
       "      <td>2.373537e-03</td>\n",
       "    </tr>\n",
       "    <tr>\n",
       "      <th>7</th>\n",
       "      <td>0.069460</td>\n",
       "      <td>0.007973</td>\n",
       "      <td>0.015316</td>\n",
       "      <td>0.002151</td>\n",
       "      <td>20</td>\n",
       "      <td>25</td>\n",
       "      <td>{'max_depth': 20, 'n_estimators': 25}</td>\n",
       "      <td>0.796512</td>\n",
       "      <td>0.767442</td>\n",
       "      <td>0.767442</td>\n",
       "      <td>0.777132</td>\n",
       "      <td>0.013704</td>\n",
       "      <td>4</td>\n",
       "      <td>0.994186</td>\n",
       "      <td>0.997093</td>\n",
       "      <td>0.997093</td>\n",
       "      <td>0.996124</td>\n",
       "      <td>1.370362e-03</td>\n",
       "    </tr>\n",
       "    <tr>\n",
       "      <th>11</th>\n",
       "      <td>0.124577</td>\n",
       "      <td>0.033945</td>\n",
       "      <td>0.018024</td>\n",
       "      <td>0.003600</td>\n",
       "      <td>30</td>\n",
       "      <td>35</td>\n",
       "      <td>{'max_depth': 30, 'n_estimators': 35}</td>\n",
       "      <td>0.796512</td>\n",
       "      <td>0.779070</td>\n",
       "      <td>0.755814</td>\n",
       "      <td>0.777132</td>\n",
       "      <td>0.016671</td>\n",
       "      <td>4</td>\n",
       "      <td>1.000000</td>\n",
       "      <td>1.000000</td>\n",
       "      <td>0.994186</td>\n",
       "      <td>0.998062</td>\n",
       "      <td>2.740724e-03</td>\n",
       "    </tr>\n",
       "  </tbody>\n",
       "</table>\n",
       "</div>"
      ],
      "text/plain": [
       "    mean_fit_time  std_fit_time  mean_score_time  std_score_time  \\\n",
       "8        0.120268      0.021325         0.022853        0.004104   \n",
       "4        0.063090      0.008922         0.012493        0.000774   \n",
       "10       0.103883      0.032962         0.020134        0.007241   \n",
       "7        0.069460      0.007973         0.015316        0.002151   \n",
       "11       0.124577      0.033945         0.018024        0.003600   \n",
       "\n",
       "   param_max_depth param_n_estimators                                 params  \\\n",
       "8               20                 35  {'max_depth': 20, 'n_estimators': 35}   \n",
       "4               10                 25  {'max_depth': 10, 'n_estimators': 25}   \n",
       "10              30                 25  {'max_depth': 30, 'n_estimators': 25}   \n",
       "7               20                 25  {'max_depth': 20, 'n_estimators': 25}   \n",
       "11              30                 35  {'max_depth': 30, 'n_estimators': 35}   \n",
       "\n",
       "    split0_test_score  split1_test_score  split2_test_score  mean_test_score  \\\n",
       "8            0.796512           0.767442           0.796512         0.786822   \n",
       "4            0.796512           0.790698           0.767442         0.784884   \n",
       "10           0.790698           0.779070           0.784884         0.784884   \n",
       "7            0.796512           0.767442           0.767442         0.777132   \n",
       "11           0.796512           0.779070           0.755814         0.777132   \n",
       "\n",
       "    std_test_score  rank_test_score  split0_train_score  split1_train_score  \\\n",
       "8         0.013704                1            0.997093            0.997093   \n",
       "4         0.012560                2            0.979651            0.985465   \n",
       "10        0.004747                2            0.994186            1.000000   \n",
       "7         0.013704                4            0.994186            0.997093   \n",
       "11        0.016671                4            1.000000            1.000000   \n",
       "\n",
       "    split2_train_score  mean_train_score  std_train_score  \n",
       "8             0.997093          0.997093     1.110223e-16  \n",
       "4             0.968023          0.977713     7.251274e-03  \n",
       "10            0.997093          0.997093     2.373537e-03  \n",
       "7             0.997093          0.996124     1.370362e-03  \n",
       "11            0.994186          0.998062     2.740724e-03  "
      ]
     },
     "execution_count": 317,
     "metadata": {},
     "output_type": "execute_result"
    }
   ],
   "source": [
    "RandomForestClassifier().get_params().keys()\n",
    "gridsearch_df= pd.DataFrame(gridsearch.cv_results_).sort_values( \\\n",
    "                                         by='rank_test_score')\n",
    "\n",
    "gridsearch_df= gridsearch_df.copy()\n",
    "gridsearch_df.head()\n"
   ]
  },
  {
   "cell_type": "code",
   "execution_count": 320,
   "metadata": {},
   "outputs": [],
   "source": [
    "import pickle\n",
    "\n",
    "file_name='final_model.sav'\n",
    "input_format_file='input_columns.sav'\n",
    "# input_scaler_file='input_scaler.sav'\n",
    "pickle.dump(rfr, open(file_name, 'wb'))\n",
    "pickle.dump(X_train.columns, open(input_format_file, 'wb'))\n",
    "# pickle.dump(scaler, open(input_scaler_file, 'wb'))"
   ]
  },
  {
   "cell_type": "code",
   "execution_count": 322,
   "metadata": {},
   "outputs": [
    {
     "data": {
      "text/plain": [
       "sklearn.ensemble._forest.RandomForestRegressor"
      ]
     },
     "execution_count": 322,
     "metadata": {},
     "output_type": "execute_result"
    }
   ],
   "source": []
  },
  {
   "cell_type": "code",
   "execution_count": 295,
   "metadata": {},
   "outputs": [
    {
     "data": {
      "text/plain": [
       "<AxesSubplot:xlabel='Average Split Test Score', ylabel='Average Split Train Score'>"
      ]
     },
     "execution_count": 295,
     "metadata": {},
     "output_type": "execute_result"
    },
    {
     "data": {
      "image/png": "[encoded data removed]",
      "text/plain": [
       "<Figure size 432x288 with 1 Axes>"
      ]
     },
     "metadata": {
      "needs_background": "light"
     },
     "output_type": "display_data"
    }
   ],
   "source": [
    "# gridsearch_array= np.array(gridsearch_df)\n",
    "\n",
    "# plt.scatter(y=gridsearch_array(pd.to_numeric(gridsearch_array['mean_test_score'], \n",
    "#                         errors='coerce')), x=gridsearch_array(gridsearch_array['mean_train_score'], \n",
    "#                         c=gridsearch_array['std_test_score'], cmap='Blues'))\n",
    "\n",
    "gridsearch_df['Average Split Test Score'] = gridsearch_df[[\"split0_test_score\", \"split1_test_score\", \"split2_test_score\"]].mean(axis=1)\n",
    "gridsearch_df['Average Split Train Score'] = gridsearch_df[[\"split0_train_score\", \"split1_train_score\", \"split2_train_score\"]].mean(axis=1)\n",
    "\n",
    "\n",
    "gridsearch_df.head()\n",
    "\n",
    "\n",
    "gridsearch_df.plot.scatter(x='Average Split Test Score',\n",
    "                      y='Average Split Train Score',\n",
    "                      c='DarkBlue')"
   ]
  },
  {
   "cell_type": "code",
   "execution_count": 117,
   "metadata": {},
   "outputs": [
    {
     "data": {
      "text/plain": [
       "abc.ABCMeta"
      ]
     },
     "execution_count": 117,
     "metadata": {},
     "output_type": "execute_result"
    }
   ],
   "source": [
    "type(RandomForestClassifier)"
   ]
  },
  {
   "cell_type": "code",
   "execution_count": 321,
   "metadata": {},
   "outputs": [],
   "source": [
    "# for column in gridsearch_df: \n",
    "#     if gridsearch_df[column] < 100: \n",
    "#         print(f'{column} options: {gridsearch_df[column].unique()}')\n",
    "#         print('='*20)"
   ]
  },
  {
   "cell_type": "markdown",
   "metadata": {},
   "source": [
    "## LinearRegression model\n"
   ]
  },
  {
   "cell_type": "code",
   "execution_count": 57,
   "metadata": {},
   "outputs": [],
   "source": [
    "# from sklearn.linear_model import LinearRegression\n",
    "\n",
    "# X_train_numerical.columns= range(X_train_numerical.shape[1])\n",
    "# y_train_numerical.columns= \n",
    "# # X_train_numerical\n",
    "# model = LinearRegression()\n",
    "# # model.fit(X_train_numerical, y_train_numerical).astype(float)\n",
    "# # # X_train_numerical\n"
   ]
  },
  {
   "cell_type": "code",
   "execution_count": 56,
   "metadata": {},
   "outputs": [],
   "source": [
    "# # Printing testing and training score for LinearRegression model and realized it's not very linear data.\n",
    "# # \n",
    "# training_score = model.score(X_train_numerical, y_train_numerical)\n",
    "# testing_score = model.score(X_test_scaled, y_test_scaled)\n",
    "\n",
    "# print(f\"Training Score: {training_score}\")\n",
    "# print(f\"Testing Score: {testing_score}\")"
   ]
  },
  {
   "cell_type": "code",
   "execution_count": 203,
   "metadata": {},
   "outputs": [
    {
     "name": "stdout",
     "output_type": "stream",
     "text": [
      "Training Data Score: 2.589 %\n",
      "Testing Data Score: 2.512 %\n"
     ]
    }
   ],
   "source": []
  },
  {
   "cell_type": "code",
   "execution_count": 195,
   "metadata": {},
   "outputs": [
    {
     "name": "stdout",
     "output_type": "stream",
     "text": [
      "Slope:  [[ 0.35163399]\n",
      " [ 0.4875817 ]\n",
      " [ 0.08888889]\n",
      " [-0.92810458]]\n",
      "Intercept:  [-5.55111512e-17  6.10622664e-16  1.94289029e-16  1.00000000e+00]\n",
      "Root mean Squared Error (MSE): 0.14747247235094033\n",
      "R-squared (R2 ): 0.025579336603709202\n"
     ]
    },
    {
     "data": {
      "image/png": "[encoded data removed]",
      "text/plain": [
       "<Figure size 432x288 with 1 Axes>"
      ]
     },
     "metadata": {
      "needs_background": "light"
     },
     "output_type": "display_data"
    }
   ],
   "source": [
    "# Calculating the mean_squared_error and the r-squared value\n",
    "from sklearn.metrics import mean_squared_error, r2_score\n",
    "\n",
    "# Use model to make predictions\n",
    "y_predicted = model.predict(X_test_scaled)\n",
    "\n",
    "# # Score predictions with mse and r2\n",
    "rmse = mean_squared_error(y_test_scaled, y_predicted)\n",
    "r2 = r2_score(y_test_scaled, y_predicted)\n",
    "\n",
    "print(f\"Slope: \", model.coef_)\n",
    "print('Intercept: ', model.intercept_)\n",
    "print(f\"Root mean Squared Error (MSE): {rmse}\")\n",
    "print(f\"R-squared (R2 ): {r2}\")\n",
    "# \n",
    "train_predict= plt.scatter(model.predict(X_train_scaled), model.predict(X_train_scaled) - y_train_scaled, c=\"blue\", label=\"Training Data\")\n",
    "test_predict= plt.scatter(model.predict(X_test_scaled), model.predict(X_test_scaled) - y_test_scaled, c=\"orange\", label=\"Testing Data\")\n",
    "plt.legend()\n",
    "\n",
    "# plt.scatter(X_test_scaled, y_test_scaled, s=5)\n",
    "# plt.plot(y_predicted, color='r')\n",
    "plt.show()\n"
   ]
  },
  {
   "cell_type": "code",
   "execution_count": 196,
   "metadata": {},
   "outputs": [
    {
     "data": {
      "text/plain": [
       "0.025579336603709202"
      ]
     },
     "execution_count": 196,
     "metadata": {},
     "output_type": "execute_result"
    }
   ],
   "source": [
    "model.score(X_test_scaled, y_test_scaled)"
   ]
  }
 ],
 "metadata": {
  "kernelspec": {
   "display_name": "Python 3",
   "language": "python",
   "name": "python3"
  },
  "language_info": {
   "codemirror_mode": {
    "name": "ipython",
    "version": 3
   },
   "file_extension": ".py",
   "mimetype": "text/x-python",
   "name": "python",
   "nbconvert_exporter": "python",
   "pygments_lexer": "ipython3",
   "version": "3.8.5"
  }
 },
 "nbformat": 4,
 "nbformat_minor": 4
}
